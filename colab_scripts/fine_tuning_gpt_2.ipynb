{
  "nbformat": 4,
  "nbformat_minor": 0,
  "metadata": {
    "colab": {
      "name": "fine-tuning-gpt-2.ipynb",
      "provenance": [],
      "collapsed_sections": [],
      "authorship_tag": "ABX9TyN4LmA//mh52GPer1IfPaS3",
      "include_colab_link": true
    },
    "kernelspec": {
      "name": "python3",
      "display_name": "Python 3"
    },
    "language_info": {
      "name": "python"
    }
  },
  "cells": [
    {
      "cell_type": "markdown",
      "metadata": {
        "id": "view-in-github",
        "colab_type": "text"
      },
      "source": [
        "<a href=\"https://colab.research.google.com/github/magdalena-b/BAIron/blob/master/fine_tuning_gpt_2.ipynb\" target=\"_parent\"><img src=\"https://colab.research.google.com/assets/colab-badge.svg\" alt=\"Open In Colab\"/></a>"
      ]
    },
    {
      "cell_type": "code",
      "metadata": {
        "colab": {
          "base_uri": "https://localhost:8080/"
        },
        "id": "TLgw-TINMPJz",
        "outputId": "822ef206-08e3-4898-e7d3-393bc5418519"
      },
      "source": [
        "!pip install transformers\n",
        "!pip install tensorflow==1.13.2\n",
        "!pip install -q gpt-2-simple"
      ],
      "execution_count": 3,
      "outputs": [
        {
          "output_type": "stream",
          "text": [
            "Collecting transformers\n",
            "\u001b[?25l  Downloading https://files.pythonhosted.org/packages/d8/b2/57495b5309f09fa501866e225c84532d1fd89536ea62406b2181933fb418/transformers-4.5.1-py3-none-any.whl (2.1MB)\n",
            "\u001b[K     |████████████████████████████████| 2.1MB 6.5MB/s \n",
            "\u001b[?25hRequirement already satisfied: tqdm>=4.27 in /usr/local/lib/python3.7/dist-packages (from transformers) (4.41.1)\n",
            "Collecting sacremoses\n",
            "\u001b[?25l  Downloading https://files.pythonhosted.org/packages/75/ee/67241dc87f266093c533a2d4d3d69438e57d7a90abb216fa076e7d475d4a/sacremoses-0.0.45-py3-none-any.whl (895kB)\n",
            "\u001b[K     |████████████████████████████████| 901kB 45.8MB/s \n",
            "\u001b[?25hRequirement already satisfied: requests in /usr/local/lib/python3.7/dist-packages (from transformers) (2.23.0)\n",
            "Requirement already satisfied: regex!=2019.12.17 in /usr/local/lib/python3.7/dist-packages (from transformers) (2019.12.20)\n",
            "Requirement already satisfied: packaging in /usr/local/lib/python3.7/dist-packages (from transformers) (20.9)\n",
            "Requirement already satisfied: numpy>=1.17 in /usr/local/lib/python3.7/dist-packages (from transformers) (1.19.5)\n",
            "Requirement already satisfied: importlib-metadata; python_version < \"3.8\" in /usr/local/lib/python3.7/dist-packages (from transformers) (3.10.1)\n",
            "Collecting tokenizers<0.11,>=0.10.1\n",
            "\u001b[?25l  Downloading https://files.pythonhosted.org/packages/ae/04/5b870f26a858552025a62f1649c20d29d2672c02ff3c3fb4c688ca46467a/tokenizers-0.10.2-cp37-cp37m-manylinux2010_x86_64.whl (3.3MB)\n",
            "\u001b[K     |████████████████████████████████| 3.3MB 44.6MB/s \n",
            "\u001b[?25hRequirement already satisfied: filelock in /usr/local/lib/python3.7/dist-packages (from transformers) (3.0.12)\n",
            "Requirement already satisfied: six in /usr/local/lib/python3.7/dist-packages (from sacremoses->transformers) (1.15.0)\n",
            "Requirement already satisfied: joblib in /usr/local/lib/python3.7/dist-packages (from sacremoses->transformers) (1.0.1)\n",
            "Requirement already satisfied: click in /usr/local/lib/python3.7/dist-packages (from sacremoses->transformers) (7.1.2)\n",
            "Requirement already satisfied: urllib3!=1.25.0,!=1.25.1,<1.26,>=1.21.1 in /usr/local/lib/python3.7/dist-packages (from requests->transformers) (1.24.3)\n",
            "Requirement already satisfied: certifi>=2017.4.17 in /usr/local/lib/python3.7/dist-packages (from requests->transformers) (2020.12.5)\n",
            "Requirement already satisfied: idna<3,>=2.5 in /usr/local/lib/python3.7/dist-packages (from requests->transformers) (2.10)\n",
            "Requirement already satisfied: chardet<4,>=3.0.2 in /usr/local/lib/python3.7/dist-packages (from requests->transformers) (3.0.4)\n",
            "Requirement already satisfied: pyparsing>=2.0.2 in /usr/local/lib/python3.7/dist-packages (from packaging->transformers) (2.4.7)\n",
            "Requirement already satisfied: typing-extensions>=3.6.4; python_version < \"3.8\" in /usr/local/lib/python3.7/dist-packages (from importlib-metadata; python_version < \"3.8\"->transformers) (3.7.4.3)\n",
            "Requirement already satisfied: zipp>=0.5 in /usr/local/lib/python3.7/dist-packages (from importlib-metadata; python_version < \"3.8\"->transformers) (3.4.1)\n",
            "Installing collected packages: sacremoses, tokenizers, transformers\n",
            "Successfully installed sacremoses-0.0.45 tokenizers-0.10.2 transformers-4.5.1\n",
            "Collecting tensorflow==1.13.2\n",
            "\u001b[?25l  Downloading https://files.pythonhosted.org/packages/bc/70/45d3b9fab768215a2055c7819d39547a4b0b7401b4583094068741aff99b/tensorflow-1.13.2-cp37-cp37m-manylinux1_x86_64.whl (92.7MB)\n",
            "\u001b[K     |████████████████████████████████| 92.7MB 91kB/s \n",
            "\u001b[?25hRequirement already satisfied: numpy<2.0,>=1.16.0 in /usr/local/lib/python3.7/dist-packages (from tensorflow==1.13.2) (1.19.5)\n",
            "Collecting tensorflow-estimator<1.14.0rc0,>=1.13.0\n",
            "\u001b[?25l  Downloading https://files.pythonhosted.org/packages/bb/48/13f49fc3fa0fdf916aa1419013bb8f2ad09674c275b4046d5ee669a46873/tensorflow_estimator-1.13.0-py2.py3-none-any.whl (367kB)\n",
            "\u001b[K     |████████████████████████████████| 368kB 35.9MB/s \n",
            "\u001b[?25hRequirement already satisfied: termcolor>=1.1.0 in /usr/local/lib/python3.7/dist-packages (from tensorflow==1.13.2) (1.1.0)\n",
            "Requirement already satisfied: gast>=0.2.0 in /usr/local/lib/python3.7/dist-packages (from tensorflow==1.13.2) (0.3.3)\n",
            "Collecting keras-applications>=1.0.6\n",
            "\u001b[?25l  Downloading https://files.pythonhosted.org/packages/71/e3/19762fdfc62877ae9102edf6342d71b28fbfd9dea3d2f96a882ce099b03f/Keras_Applications-1.0.8-py3-none-any.whl (50kB)\n",
            "\u001b[K     |████████████████████████████████| 51kB 4.5MB/s \n",
            "\u001b[?25hRequirement already satisfied: keras-preprocessing>=1.0.5 in /usr/local/lib/python3.7/dist-packages (from tensorflow==1.13.2) (1.1.2)\n",
            "Requirement already satisfied: protobuf>=3.6.1 in /usr/local/lib/python3.7/dist-packages (from tensorflow==1.13.2) (3.12.4)\n",
            "Requirement already satisfied: wheel>=0.26 in /usr/local/lib/python3.7/dist-packages (from tensorflow==1.13.2) (0.36.2)\n",
            "Requirement already satisfied: astor>=0.6.0 in /usr/local/lib/python3.7/dist-packages (from tensorflow==1.13.2) (0.8.1)\n",
            "Requirement already satisfied: absl-py>=0.1.6 in /usr/local/lib/python3.7/dist-packages (from tensorflow==1.13.2) (0.12.0)\n",
            "Requirement already satisfied: grpcio>=1.8.6 in /usr/local/lib/python3.7/dist-packages (from tensorflow==1.13.2) (1.32.0)\n",
            "Collecting tensorboard<1.14.0,>=1.13.0\n",
            "\u001b[?25l  Downloading https://files.pythonhosted.org/packages/0f/39/bdd75b08a6fba41f098b6cb091b9e8c7a80e1b4d679a581a0ccd17b10373/tensorboard-1.13.1-py3-none-any.whl (3.2MB)\n",
            "\u001b[K     |████████████████████████████████| 3.2MB 32.0MB/s \n",
            "\u001b[?25hRequirement already satisfied: six>=1.10.0 in /usr/local/lib/python3.7/dist-packages (from tensorflow==1.13.2) (1.15.0)\n",
            "Collecting mock>=2.0.0\n",
            "  Downloading https://files.pythonhosted.org/packages/5c/03/b7e605db4a57c0f6fba744b11ef3ddf4ddebcada35022927a2b5fc623fdf/mock-4.0.3-py3-none-any.whl\n",
            "Requirement already satisfied: h5py in /usr/local/lib/python3.7/dist-packages (from keras-applications>=1.0.6->tensorflow==1.13.2) (2.10.0)\n",
            "Requirement already satisfied: setuptools in /usr/local/lib/python3.7/dist-packages (from protobuf>=3.6.1->tensorflow==1.13.2) (56.0.0)\n",
            "Requirement already satisfied: werkzeug>=0.11.15 in /usr/local/lib/python3.7/dist-packages (from tensorboard<1.14.0,>=1.13.0->tensorflow==1.13.2) (1.0.1)\n",
            "Requirement already satisfied: markdown>=2.6.8 in /usr/local/lib/python3.7/dist-packages (from tensorboard<1.14.0,>=1.13.0->tensorflow==1.13.2) (3.3.4)\n",
            "Requirement already satisfied: importlib-metadata; python_version < \"3.8\" in /usr/local/lib/python3.7/dist-packages (from markdown>=2.6.8->tensorboard<1.14.0,>=1.13.0->tensorflow==1.13.2) (3.10.1)\n",
            "Requirement already satisfied: zipp>=0.5 in /usr/local/lib/python3.7/dist-packages (from importlib-metadata; python_version < \"3.8\"->markdown>=2.6.8->tensorboard<1.14.0,>=1.13.0->tensorflow==1.13.2) (3.4.1)\n",
            "Requirement already satisfied: typing-extensions>=3.6.4; python_version < \"3.8\" in /usr/local/lib/python3.7/dist-packages (from importlib-metadata; python_version < \"3.8\"->markdown>=2.6.8->tensorboard<1.14.0,>=1.13.0->tensorflow==1.13.2) (3.7.4.3)\n",
            "Installing collected packages: mock, tensorflow-estimator, keras-applications, tensorboard, tensorflow\n",
            "  Found existing installation: tensorflow-estimator 2.4.0\n",
            "    Uninstalling tensorflow-estimator-2.4.0:\n",
            "      Successfully uninstalled tensorflow-estimator-2.4.0\n",
            "  Found existing installation: tensorboard 2.4.1\n",
            "    Uninstalling tensorboard-2.4.1:\n",
            "      Successfully uninstalled tensorboard-2.4.1\n",
            "  Found existing installation: tensorflow 2.4.1\n",
            "    Uninstalling tensorflow-2.4.1:\n",
            "      Successfully uninstalled tensorflow-2.4.1\n",
            "Successfully installed keras-applications-1.0.8 mock-4.0.3 tensorboard-1.13.1 tensorflow-1.13.2 tensorflow-estimator-1.13.0\n",
            "  Building wheel for gpt-2-simple (setup.py) ... \u001b[?25l\u001b[?25hdone\n"
          ],
          "name": "stdout"
        }
      ]
    },
    {
      "cell_type": "code",
      "metadata": {
        "id": "EGDTuE_aNOAL",
        "colab": {
          "base_uri": "https://localhost:8080/"
        },
        "outputId": "83a57d65-0d9d-4b0b-dc75-b4837ed44799"
      },
      "source": [
        "import transformers\n",
        "import gpt_2_simple as gpt2\n",
        "import tensorflow"
      ],
      "execution_count": 4,
      "outputs": [
        {
          "output_type": "stream",
          "text": [
            "/usr/local/lib/python3.7/dist-packages/tensorflow/python/framework/dtypes.py:526: FutureWarning: Passing (type, 1) or '1type' as a synonym of type is deprecated; in a future version of numpy, it will be understood as (type, (1,)) / '(1,)type'.\n",
            "  _np_qint8 = np.dtype([(\"qint8\", np.int8, 1)])\n",
            "/usr/local/lib/python3.7/dist-packages/tensorflow/python/framework/dtypes.py:527: FutureWarning: Passing (type, 1) or '1type' as a synonym of type is deprecated; in a future version of numpy, it will be understood as (type, (1,)) / '(1,)type'.\n",
            "  _np_quint8 = np.dtype([(\"quint8\", np.uint8, 1)])\n",
            "/usr/local/lib/python3.7/dist-packages/tensorflow/python/framework/dtypes.py:528: FutureWarning: Passing (type, 1) or '1type' as a synonym of type is deprecated; in a future version of numpy, it will be understood as (type, (1,)) / '(1,)type'.\n",
            "  _np_qint16 = np.dtype([(\"qint16\", np.int16, 1)])\n",
            "/usr/local/lib/python3.7/dist-packages/tensorflow/python/framework/dtypes.py:529: FutureWarning: Passing (type, 1) or '1type' as a synonym of type is deprecated; in a future version of numpy, it will be understood as (type, (1,)) / '(1,)type'.\n",
            "  _np_quint16 = np.dtype([(\"quint16\", np.uint16, 1)])\n",
            "/usr/local/lib/python3.7/dist-packages/tensorflow/python/framework/dtypes.py:530: FutureWarning: Passing (type, 1) or '1type' as a synonym of type is deprecated; in a future version of numpy, it will be understood as (type, (1,)) / '(1,)type'.\n",
            "  _np_qint32 = np.dtype([(\"qint32\", np.int32, 1)])\n",
            "/usr/local/lib/python3.7/dist-packages/tensorflow/python/framework/dtypes.py:535: FutureWarning: Passing (type, 1) or '1type' as a synonym of type is deprecated; in a future version of numpy, it will be understood as (type, (1,)) / '(1,)type'.\n",
            "  np_resource = np.dtype([(\"resource\", np.ubyte, 1)])\n"
          ],
          "name": "stderr"
        }
      ]
    },
    {
      "cell_type": "code",
      "metadata": {
        "id": "GQTG-cKuPUBq"
      },
      "source": [
        "from google.colab import files"
      ],
      "execution_count": 5,
      "outputs": []
    },
    {
      "cell_type": "code",
      "metadata": {
        "colab": {
          "resources": {
            "http://localhost:8080/nbextensions/google.colab/files.js": {
              "data": "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",
              "ok": true,
              "headers": [
                [
                  "content-type",
                  "application/javascript"
                ]
              ],
              "status": 200,
              "status_text": ""
            }
          },
          "base_uri": "https://localhost:8080/",
          "height": 72
        },
        "id": "hJZWdX1GP5n1",
        "outputId": "447fe943-fb4f-429e-c4eb-9e238b37c522"
      },
      "source": [
        "data = files.upload()"
      ],
      "execution_count": 6,
      "outputs": [
        {
          "output_type": "display_data",
          "data": {
            "text/html": [
              "\n",
              "     <input type=\"file\" id=\"files-6d47d126-89ed-4bec-8fd7-74c873500f5a\" name=\"files[]\" multiple disabled\n",
              "        style=\"border:none\" />\n",
              "     <output id=\"result-6d47d126-89ed-4bec-8fd7-74c873500f5a\">\n",
              "      Upload widget is only available when the cell has been executed in the\n",
              "      current browser session. Please rerun this cell to enable.\n",
              "      </output>\n",
              "      <script src=\"/nbextensions/google.colab/files.js\"></script> "
            ],
            "text/plain": [
              "<IPython.core.display.HTML object>"
            ]
          },
          "metadata": {
            "tags": []
          }
        },
        {
          "output_type": "stream",
          "text": [
            "Saving shakespeare_sonnets (3).txt to shakespeare_sonnets (3).txt\n"
          ],
          "name": "stdout"
        }
      ]
    },
    {
      "cell_type": "code",
      "metadata": {
        "id": "ArlTloCmV4Mw"
      },
      "source": [
        "data_file = \"shakespeare_sonnets (3).txt\""
      ],
      "execution_count": 7,
      "outputs": []
    },
    {
      "cell_type": "code",
      "metadata": {
        "colab": {
          "base_uri": "https://localhost:8080/"
        },
        "id": "xwT9iRjUQlLp",
        "outputId": "21668128-30bd-4140-f3a9-79e824db3505"
      },
      "source": [
        "gpt2.download_gpt2(model_name=\"124M\")"
      ],
      "execution_count": 8,
      "outputs": [
        {
          "output_type": "stream",
          "text": [
            "Fetching checkpoint: 1.05Mit [00:00, 413Mit/s]                                                      \n",
            "Fetching encoder.json: 1.05Mit [00:00, 5.72Mit/s]\n",
            "Fetching hparams.json: 1.05Mit [00:00, 222Mit/s]                                                    \n",
            "Fetching model.ckpt.data-00000-of-00001: 498Mit [00:18, 27.0Mit/s]                                  \n",
            "Fetching model.ckpt.index: 1.05Mit [00:00, 338Mit/s]                                                \n",
            "Fetching model.ckpt.meta: 1.05Mit [00:00, 7.03Mit/s]\n",
            "Fetching vocab.bpe: 1.05Mit [00:00, 7.10Mit/s]\n"
          ],
          "name": "stderr"
        }
      ]
    },
    {
      "cell_type": "code",
      "metadata": {
        "colab": {
          "base_uri": "https://localhost:8080/"
        },
        "id": "9UB-iDC-SLjC",
        "outputId": "b29bb1fc-c63d-4426-cd10-113a2b028755"
      },
      "source": [
        "gpt2.mount_gdrive()"
      ],
      "execution_count": 10,
      "outputs": [
        {
          "output_type": "stream",
          "text": [
            "Mounted at /content/drive\n"
          ],
          "name": "stdout"
        }
      ]
    },
    {
      "cell_type": "code",
      "metadata": {
        "colab": {
          "base_uri": "https://localhost:8080/"
        },
        "id": "uYZ4J4S4QTXq",
        "outputId": "de03f261-0cb7-435b-a840-6bfcc74d280a"
      },
      "source": [
        "tensorflow.reset_default_graph()\n",
        "sess = gpt2.start_tf_sess()\n",
        "gpt2.finetune(sess,\n",
        "          steps=50,\n",
        "          dataset=data_file,\n",
        "          model_name='124M', \n",
        "          print_every=5,\n",
        "          run_name= 'shakespeare',\n",
        "          restore_from='latest',\n",
        "          sample_every=10,\n",
        "          save_every=10\n",
        "          )"
      ],
      "execution_count": 9,
      "outputs": [
        {
          "output_type": "stream",
          "text": [
            "WARNING:tensorflow:From /usr/local/lib/python3.7/dist-packages/tensorflow/python/framework/op_def_library.py:263: colocate_with (from tensorflow.python.framework.ops) is deprecated and will be removed in a future version.\n",
            "Instructions for updating:\n",
            "Colocations handled automatically by placer.\n",
            "WARNING:tensorflow:From /usr/local/lib/python3.7/dist-packages/tensorflow/python/ops/math_ops.py:3066: to_int32 (from tensorflow.python.ops.math_ops) is deprecated and will be removed in a future version.\n",
            "Instructions for updating:\n",
            "Use tf.cast instead.\n",
            "WARNING:tensorflow:From /usr/local/lib/python3.7/dist-packages/tensorflow/python/ops/math_grad.py:102: div (from tensorflow.python.ops.math_ops) is deprecated and will be removed in a future version.\n",
            "Instructions for updating:\n",
            "Deprecated in favor of operator or tf.math.divide.\n",
            "Loading checkpoint models/124M/model.ckpt\n",
            "WARNING:tensorflow:From /usr/local/lib/python3.7/dist-packages/tensorflow/python/training/saver.py:1266: checkpoint_exists (from tensorflow.python.training.checkpoint_management) is deprecated and will be removed in a future version.\n",
            "Instructions for updating:\n",
            "Use standard file APIs to check for files with this prefix.\n",
            "INFO:tensorflow:Restoring parameters from models/124M/model.ckpt\n"
          ],
          "name": "stdout"
        },
        {
          "output_type": "stream",
          "text": [
            "\r  0%|          | 0/1 [00:00<?, ?it/s]"
          ],
          "name": "stderr"
        },
        {
          "output_type": "stream",
          "text": [
            "Loading dataset...\n"
          ],
          "name": "stdout"
        },
        {
          "output_type": "stream",
          "text": [
            "100%|██████████| 1/1 [00:00<00:00,  3.92it/s]\n"
          ],
          "name": "stderr"
        },
        {
          "output_type": "stream",
          "text": [
            "dataset has 24772 tokens\n",
            "Training...\n",
            "[5 | 919.90] loss=4.50 avg=4.50\n",
            "[10 | 1835.90] loss=4.13 avg=4.31\n",
            "Saving checkpoint/shakespeare/model-10\n",
            "======== SAMPLE 1 ========\n",
            " men as they were, with their own lives.\n",
            "It's one thing to be old; nor do I use it for anything but it is better to say to myself that I ought to be old like men, rather than old like that time, and so that for that reason alone I am old enough to do, so that I give use to any ill-doing.\n",
            "But my age, I do not say to myself, is that I am old, for that of the youth, of the children.\n",
            "It is old to use it, for it can then be no use to all that is to be found in my soul.\n",
            "So when I see I am old, and do not look back, say that I have done something; but when I see that it is nothing else, then I say: I have done nothing.\n",
            "How then am I to have looked away, knowing that the better part of me is dead, to have got my old thing, but not to look back; and when I see that there is no time in my life of death left, and I am old enough to do not write anything of it, but I write what I write.\n",
            "I then write.\n",
            "Why would I be old if I could? I thought of what I should write, and that I should be old,\n",
            "for I did nothing, except to see what I should write, and with what I should draw, that I might not look back, that it was in my own time.\n",
            "I do not know what I should like to write; but it did not come to my mind till I did.\n",
            "I write in this age; not where it seems to be, but where I do not know.\n",
            "It is my old, of my youth, and I write in that age, which I cannot write.\n",
            "I write in my youth, but for nothing else than that it will be, that it will have made me a age, old enough to do nothing, but for me and to be that age old which no thought or feeling should dare to tell me, where you see me, do not think you should look, unless he can tell me he is old enough to do what a boy with no old age must do:\n",
            "or if you shall write and write the best thing you can, which I do write but not write, you say I write: if, so, what you write can tell you, you say what I write, and write you.\n",
            "In my youth when I write, this state of my age do not say what I write but my age: what can tell a boy of my age that my age can be\n",
            "a false thing, but something to him on account of some fact which he does not\n",
            "know, and it is more his fault that I should write\n",
            "than I do, not because he should know it, but because he should look into my memory, and not to me, so I cannot write him with me: but if his memory is wrong, I do not look into him, but not to know him.\n",
            "If my memories, as they appear to me, are false, which, if my memories can do it, they cannot do; or my memory cannot know what is not in me, but I cannot lie to his memory.\n",
            "If my memory in his memory should tell me nothing, but I cannot tell it, because when my memory tells me that he is old enough, when his memory tells me his words are good, he is not so old; when he tells me all the things I tell him in his record, he is old enough to write.\n",
            "So my memory of his memory never, my memory of his memory, knows that something that his memory remembers is true; his memory never knows that something his memory knows is true, he thinks, for nothing that is not false does my memory show.\n",
            "His memory of every thing is false, and is not more so than he knows to be false; for so was it from his memory, that his memory should lie false to him when his memory tells him that he is young.\n",
            "That this false memory is more than my memory can tell me, but in my memory I should know all things, and that I should be told all things by the memory of the memory I have been told.\n",
            "What is my memory telling me that in his memory some things in his memory do not tell him; he knows what has not he learned?\n",
            "And how many things in his memory are true I can not tell him of, and still not tell him how many or to what.\n",
            "But my memory knows of some things in his memory, he knows by his memory of others, and so it knows of him not.\n",
            "That my memory knows that not my memory tells me but my memories tell him, says I, in so far as I know it, I know not all things, for so far it is true that I do know things that say to me not I am sure of, and so it knows\n",
            "\n",
            "[15 | 2898.88] loss=4.00 avg=4.21\n",
            "[20 | 3823.35] loss=3.82 avg=4.11\n",
            "Saving checkpoint/shakespeare/model-20\n",
            "WARNING:tensorflow:From /usr/local/lib/python3.7/dist-packages/tensorflow/python/training/saver.py:966: remove_checkpoint (from tensorflow.python.training.checkpoint_management) is deprecated and will be removed in a future version.\n",
            "Instructions for updating:\n",
            "Use standard file APIs to delete files with this prefix.\n",
            "======== SAMPLE 1 ========\n",
            " new.\n",
            "\n",
            "He says he and her father were married and had a son;\n",
            "But, says he, they were dead, and the widow was his heir\n",
            "So as the husband of his own mother did not live;\n",
            "And they died, and the widow died, and the dead were\n",
            "Born still, the widow's spirit, for their part,\n",
            "For in their hearts was that which was dead:\n",
            "For on the feast of him that was with her\n",
            "Gave out their living spirit, and had both\n",
            "And married their dead form into the feast:\n",
            "Their hearts, being alive, and were not to die,\n",
            "Came to her face with that same sweet\n",
            "That was mine, and then died, and left\n",
            "With her their hearts, with which all those whom the\n",
            "Made a sweet and tender death brought:\n",
            "And she gave to the world, and to the world my son:\n",
            "For he that loved her, and to the world her husband,\n",
            "Came with me and made me happy by my love:\n",
            "And then I did his love, and the love of my heart\n",
            "Is in me, and then dies, and those whose thoughts I\n",
            "Lest be of the world with the world's dead.\n",
            "What then is my thought of thee, thou, my heart, where art love's dead love?\n",
            "My mind says my thought of Love is my self-love in thine eye;\n",
            "Thou lovest my thought, my heart hath thought me my love,\n",
            "Who was born from the earth, and the spirit of Love:\n",
            "Thou lovest the thought of my heart thus, and thence my inward thought\n",
            "To thy soul my thoughts and my inward thoughts\n",
            "O'er mine is thought: I am thou thought my self,\n",
            "My inward heart a sight of my self.\n",
            "My heart's thoughts love thee, my heart loves thy thoughts,\n",
            "Thy thoughts do think in me, and I do think thee:\n",
            "When thou knowst my true self, thou art the true thought,\n",
            "That thy thoughts alone are thoughts of me,\n",
            "Whose thoughts and thoughts are thoughts of thy mind.\n",
            "\n",
            "\n",
            "My thoughts are thoughts of thy thoughts, my thoughts in thine eye.\n",
            "My heart's thoughts thou art my thought.\n",
            "Since thou art thinking, let my thoughts rest,\n",
            "They that thoughts think thou lovest them,\n",
            "Thy thoughts and thoughts are in mine thoughts,\n",
            "Thy thoughts and thoughts are thoughts of thee;\n",
            "They that think and think not believe,\n",
            "Thy thoughts are thoughts of thee, though thou art myself.\n",
            "I think they that I thought they were my thoughts,\n",
            "Thy thoughts are my thoughts in me, yet their thoughts are thoughts of thee,\n",
            "They that think that thou lovest me know myself with the truth.\n",
            "That they that think think thee know themselves with the same true thoughts\n",
            "They that think thou hast thy thoughts with me, but have me in thee,\n",
            "They that think that thou hast the truth's sake with me;\n",
            "But I do thought that thou hast made this my self\n",
            "So to their self, my self didst not think of thee;\n",
            "That they, the thoughts were thoughts, thou hast their true thoughts.\n",
            "\n",
            "My brain thought me self and thought of thee,\n",
            "When they saw their self's thoughts, they heard the sight\n",
            "Thy self's thoughts do say, 'That thou dost see the sight of the heart\n",
            "Which thou art thyself and thyself dost see.'\n",
            "No thought did my mind think mineself to have my thoughts;\n",
            "No thought did my heart think the sight of thine heart\n",
            "Which I have not seen but to behold\n",
            "My heart's thought do say, 'My heart doth see thine heart.'\n",
            "Now I have seen thoughts that I had not thought,\n",
            "They that I did think thought that their thought should,\n",
            "Thus dost they say doth not see the heart of thine heart;\n",
            "For I have heard thoughts of thoughts dost doth know,\n",
            "That they are thoughts doth say, thou art thou their guest.\n",
            "So I thought thoughts, they that they thought thought\n",
            "Was told not to thee but told thee to thyself;\n",
            "They did but make thought of thee in thoughts\n",
            "They themselves did think of their thoughts.\n",
            "If they doth not then think thought of their thoughts\n",
            "Their thoughts were thoughts doth prove;\n",
            "But thou dost not then think that thy thoughts dost prove.\n",
            "When thy thoughts doth, then, doth prove,\n",
            "Thy thoughts will not prove their thought doth prove;\n",
            "Thou dost not then doth know thought doth prove,\n",
            "That I dost think thou the thought of my thought;\n",
            "That all my thoughts and my thoughts are thoughts;\n",
            "Thy thoughts do say me them to me;\n",
            "When they doth doth find me,\n",
            "My thoughts do dost doth tell me\n",
            "\n",
            "[25 | 4872.49] loss=3.85 avg=4.06\n",
            "[30 | 5795.44] loss=3.61 avg=3.98\n",
            "Saving checkpoint/shakespeare/model-30\n",
            "======== SAMPLE 1 ========\n",
            "\n",
            "Ding, but not my doth it bring; yea, but my treasure be with thee.\n",
            "\n",
            "Ding, though I should be in love at first, I could not endure it for quite a time: but once for love, I love thee, and love thee again.\n",
            "\n",
            "That being so, thou knowest that this dreg-doloured love\n",
            "contends the most, and is so much more, than thy woe.\n",
            "Thou art so well knowy, thou art so well remembered,\n",
            "that every being must in thee to bear,\n",
            "and all thy worth must not be suppressed,\n",
            "at thy most love-kindling pleasure:\n",
            "Thou art so sweet the sweetest lover knows what hath been done.\n",
            "For to me she hath more sweetness than a fair sum:\n",
            "Nor she bears that which is dear, but for love,\n",
            "for the remembrance which I have of her tender.\n",
            "O, thou art more sweet than I, that my self,\n",
            "of which thou art so much in love,\n",
            "contends what thou dost have with me, and I with thee.\n",
            "Hear, if it please thee, bear all my sins with me:\n",
            "Mine, my sins so far as they are in thee are proved,\n",
            "as I am. I can't prove nothing that is greater than thee;\n",
            "No, none: but if thou lov'st me, do prove my worth,\n",
            "gainst my time and my treasure; that thou mightst live my pain.\n",
            "\n",
            "\n",
            "What a thing is the treasure that's in thy bosom worthless?\n",
            "Thy love to the world which I hold in thy bosom,\n",
            "from which I must live, I can not deny,\n",
            "I have no control, but may with equal authority have\n",
            "The dear love of thy heart give me a hold,\n",
            "all my fears can be reckoned against, and I gain.\n",
            "That the love of thee gives more strength on my part than my fears,\n",
            "I believe I cannot hold back for you, for thy good.\n",
            "My love, thou canst prove my worth,\n",
            "only have it prove my self so as I do\n",
            "My deeds: to me it is more true to prove\n",
            "a greater part of myself than yourself, in view of me.\n",
            "\n",
            "Mine, mine, mine, and mine are so: and then you all have my esteem.\n",
            "No, none, mine or yours, mine or yours\n",
            "in thy self, mine, mine or mine to thee may I love,\n",
            "not for you; but for him whom I hold dear,\n",
            "you are to be mine and him to be mine.\n",
            "That my own true love to myself may be\n",
            "an unquestioned love, whether we can prove it,\n",
            "or for that is our own end.\n",
            "Mine, mine, mine, and yours mine; mine\n",
            "mine, mine, mine, and mine, make for love; mine\n",
            "mine, mine, mine, mine, mine, mine, mine, mine, mine, mine is to me,\n",
            "That my end may stay all my hours, and if it so, let it grow old.\n",
            "Mine, mine, mine, mine, mine, mine, mine, mine, mine, are mine alone;\n",
            "we that have been so, we are in that bond whereof is found,\n",
            "all our parts.\n",
            "Mine alone mine but to this bond I have no control,\n",
            "other than that of your control with me!\n",
            "For mine alone mine alone to be,\n",
            "and to mine is to be part of the world.\n",
            "I cannot bear that thy presence\n",
            "shall kill me, no more than thou didst kill me,\n",
            "through thy love or love alone, and thy love must\n",
            "live on mine head, as in my heart.\n",
            "Mine alone mine alone if thou, and let me be alone,\n",
            "other than that thou made love, with me, and that thou didst kill me\n",
            "through the very love that thou didst make that which is near.\n",
            "Mine alone thy love, thy love shalt love me not,\n",
            "that is, if thou wilt not make love with thine eye.\n",
            "Give me none but thy all, thou art both me\n",
            "all thyself, and thy all thou canst make of me,\n",
            "all thy self thy storehouse, and thy self thy storehouse.\n",
            "\n",
            "If I am ever in love and ever in love with thee,\n",
            "I shall be like thee with thy face and thy self,\n",
            "and be ever in thy self of all thy parts.\n",
            "Make no haste to make a copy of my verse,\n",
            "to make a copy of my spirit, when thy self do show thy self to be;\n",
            "let this be my copy, that others may see and hear thee.\n",
            "To myself thou art my beauty, so that others may see but I;\n",
            "But to myself thou dost my purpose, and my self in thee doth my pleasure.\n",
            "\n",
            "[35 | 6844.50] loss=3.41 avg=3.90\n",
            "[40 | 7763.15] loss=3.45 avg=3.84\n",
            "Saving checkpoint/shakespeare/model-40\n",
            "======== SAMPLE 1 ========\n",
            ", that is, by faith, with full heart, or to be of true faith.\n",
            "The first argument against this holds that, though our minds are dumb, they are subject to dumb spirits.\n",
            "But in this we may well believe, if things be in error, wherefore we may know, by the things, that are untrue; but, seeing that I may not, I say be false; wherefore I must believe by the things, that are true; since that true is supposed, when I say by the things, which it proves, not by their things but my true; not by the things nor by them, but by the mind itself, that which in things is made true: thus if it could prove, what would be the effect of it not so, and so I thought?\n",
            "The second argument, being false, cannot but be true; but every one that touches on it thinks of it as true, if not as it is.\n",
            "All this holds, because that which is supposed not by what is in it, but that which is made in it, is true: but I to see how it is, to prove this I look on what is not, and see whether it be false, though it be true not one with the other.\n",
            "What thoughts will I see which have this false mind? And what thoughts will I do which are true? And when thoughts that are true do prove false, how do they do prove false? I will think of them as true, and those who are true will be false, even to-day, as they were when the first were created.\n",
            "By this I see how it is to be thought that thoughts, like men, have the true sense; that they must be brought under your control, in some kind or another; the rest being ill, or they all in bad. As for my senses, when they are all diseased, do I not think of men's ill, or be ill, or ill as they are? As for their ill-wills, I do think of them as men's; and whether, whether, I have this ill-willed mind, all minds are in me, and all men in my sight, are in myself ill.\n",
            "Do not even my eye see what a shadow of a thing is hid, and where no shadow is sought; for your eye is in them, too; so too are your eyes, and your heart, in this matter: so am my heart, though it dwells on your thoughts, thoughts.\n",
            "My heart is all things to one, and one body with one head, and all parts of it; and there is that which I do think to be things, which I cannot to-day be proud of, nor to see thought of as I see it; but there is that which I think of to be objects that I can in no shape think of, and be proud of.\n",
            "Thus is my thought thought, and my heart' thoughts, and heart' thoughts' thoughts' thoughts, and heart' thoughts' thoughts.<|endoftext|>SALT LAKE CITY (NOS) A former prime ministerial candidate admitted to being the mistress of the woman he married, in a lawsuit filed before the state's chief religious office this spring.\n",
            "Wm. Richard Branson, former vice president of Virgin Galactic, filed papers in state Superior Court on Friday in response to a plea by the state's state clerk that the statute of limitations on same-sex marriage must be extended by four months from May of this year to April of next year.\n",
            "Then, if he was still married, the statute would be three more, says a brief filed by a former state clerk by Eric J. Barger, now general counsel of Virgin, in the suit.\n",
            "\n",
            "Barger, a former state clerk, filed an appeal in state Supreme Court on June 30 as part of a lawsuit brought by four former religious freedom civil unions: a former head of a charter of the United Parishes, a former pastor of the Church of the Flying Spaghetti Monster, and a state public authority.\n",
            "\n",
            "After his appeal was hung up, the state filed suit for breach of judgment, breach of state's religious liberty, and civil war.\n",
            "In a brief filed this summer, Barger asked to be removed from his post. The clerk, he said, would bring that in his favour.\n",
            "Then, he told him, that he would not do another's trespass to the right to have a religious comment made to him; that the state would not do him justice, by granting him special privilege.\n",
            "In the meantime, after several hours, the clerk took out his argument, and told his story in his brief of affairs. \"The present is not to be seen which it is but from the eye which every heart obtains from this place where they abide; wherefore nothing is to be seen but on those parts which they meet,\" he wrote.\n",
            "The state, he said, would not take no part in the matter, but would\n",
            "\n",
            "[45 | 8817.29] loss=3.09 avg=3.75\n",
            "[50 | 9740.15] loss=2.77 avg=3.65\n",
            "Saving checkpoint/shakespeare/model-50\n"
          ],
          "name": "stdout"
        }
      ]
    },
    {
      "cell_type": "code",
      "metadata": {
        "id": "adfg2IflrmIe"
      },
      "source": [
        "gpt2.copy_checkpoint_to_gdrive(run_name='shakespeare')"
      ],
      "execution_count": 13,
      "outputs": []
    }
  ]
}