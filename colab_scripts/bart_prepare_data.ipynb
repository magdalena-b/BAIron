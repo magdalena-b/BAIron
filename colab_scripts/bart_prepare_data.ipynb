{
  "nbformat": 4,
  "nbformat_minor": 0,
  "metadata": {
    "colab": {
      "name": "bart_prepare_data.ipynb",
      "provenance": [],
      "authorship_tag": "ABX9TyMr4QuuBMh8tmJrQHKNvumu",
      "include_colab_link": true
    },
    "kernelspec": {
      "name": "python3",
      "display_name": "Python 3"
    },
    "language_info": {
      "name": "python"
    }
  },
  "cells": [
    {
      "cell_type": "markdown",
      "metadata": {
        "id": "view-in-github",
        "colab_type": "text"
      },
      "source": [
        "<a href=\"https://colab.research.google.com/github/magdalena-b/Bairon/blob/master/bart_prepare_data.ipynb\" target=\"_parent\"><img src=\"https://colab.research.google.com/assets/colab-badge.svg\" alt=\"Open In Colab\"/></a>"
      ]
    },
    {
      "cell_type": "code",
      "metadata": {
        "id": "AhpMq8LW8LSS"
      },
      "source": [
        "import os\n",
        "import pandas as pd\n",
        "import numpy as np\n",
        "\n",
        "import re\n",
        "import math\n",
        "import random"
      ],
      "execution_count": 1,
      "outputs": []
    },
    {
      "cell_type": "code",
      "metadata": {
        "id": "zd0DhK2m-lOn"
      },
      "source": [
        "data_file = \"cummings.txt\""
      ],
      "execution_count": 2,
      "outputs": []
    },
    {
      "cell_type": "code",
      "metadata": {
        "id": "Hoo8QZpf-tjl"
      },
      "source": [
        "with open(data_file, 'r', encoding = 'utf-8') as f:\n",
        "    lyrics = f.read()"
      ],
      "execution_count": 3,
      "outputs": []
    },
    {
      "cell_type": "code",
      "metadata": {
        "id": "47BzytkY-x9Q"
      },
      "source": [
        "def create_lyric_pairs(lyrics):\n",
        "  \n",
        "    source = []\n",
        "    target = []\n",
        "    \n",
        "    lyrics_ = re.sub(r' \\([^)]*\\)', '', lyrics)\n",
        "\n",
        "    lyrics_ = lyrics_.split('\\n')\n",
        "\n",
        "    # Clean up extra spaces in the lyrics\n",
        "    counter = 0\n",
        "    for i in range(len(lyrics_)-1):\n",
        "        if lyrics_[counter] == \"\" and lyrics[counter+1] == \"\":\n",
        "            lyrics_[counter+1].pop()\n",
        "        counter += 1\n",
        "    \n",
        "    counter = 0\n",
        "    for i in range(len(lyrics_)-1):\n",
        "        if lyrics_[counter] == \"\" and lyrics[counter+1] == \"\":\n",
        "            lyrics_[counter+1].pop()\n",
        "        counter += 1    \n",
        "    # replace a \"\" with the word break\n",
        "    for i in range(len(lyrics_)):\n",
        "        if lyrics_[i] == \"\":\n",
        "            lyrics_[i] = \"break\"\n",
        "    \n",
        "    counter = 0\n",
        "    for i in range(len(lyrics_) - 1):\n",
        "        if lyrics_[counter] != \"break\" and lyrics_[counter+1] != \"break\":\n",
        "            # Use one line and target is the next line\n",
        "            source.append(lyrics_[counter])\n",
        "            target.append(lyrics_[counter+1])\n",
        "            \n",
        "        counter += 1\n",
        "            \n",
        "    return source, target\n",
        "\n",
        "def noise_sentence(sentence_, percent_words, replacement_token = \"<mask>\"):\n",
        "    '''\n",
        "    Args: sentence - the sentence to noise\n",
        "          percent_words - the percent of words to remove\n",
        "    '''\n",
        "    # Create a list item and copy\n",
        "    sentence_ = sentence_.split(' ')\n",
        "    sentence = sentence_.copy()\n",
        "    \n",
        "    num_words = math.ceil(len(sentence) * percent_words)\n",
        "    \n",
        "    # # Create an array of tokens to sample from; don't include the last word as an option because in the case of lyrics\n",
        "    # # that word is often a rhyming word and plays an important role in song construction\n",
        "    # sample_tokens = set(np.arange(0, np.maximum(1, len(sentence)-1)))\n",
        "\n",
        "    #include the last word\n",
        "    sample_tokens = set(np.arange(0, np.maximum(1, len(sentence))))\n",
        "    \n",
        "    words_to_noise = random.sample(sample_tokens, num_words)\n",
        "    \n",
        "    # Remove redundant spaces\n",
        "    sentence = re.sub(r' {2,5}', ' ', ' '.join(sentence))\n",
        "    \n",
        "    # Combine concurrent <mask> tokens into a single token; this just does two rounds of this; more could be done\n",
        "    sentence = re.sub(r'<mask> <mask>', \"<mask>\", sentence)\n",
        "    sentence = re.sub(r'<mask> <mask>', \"<mask>\", sentence)\n",
        "    return sentence"
      ],
      "execution_count": 4,
      "outputs": []
    },
    {
      "cell_type": "code",
      "metadata": {
        "id": "YCMgi3t8_M66"
      },
      "source": [
        "source_lyrics = []\n",
        "target_lyrics = []\n",
        "\n",
        "with open(data_file, 'r', encoding = 'utf-8') as f:\n",
        "    lyrics = f.read()\n",
        "    a, b = create_lyric_pairs(lyrics)\n",
        "    source_lyrics.extend(a)\n",
        "    target_lyrics.extend(b)"
      ],
      "execution_count": 5,
      "outputs": []
    },
    {
      "cell_type": "code",
      "metadata": {
        "id": "mrvWxl7N_yow"
      },
      "source": [
        "lyrics_df = pd.DataFrame({\"source\":source_lyrics, \"target\":target_lyrics})"
      ],
      "execution_count": 6,
      "outputs": []
    },
    {
      "cell_type": "code",
      "metadata": {
        "id": "7UPq9q7n_08g"
      },
      "source": [
        "lyrics_df = lyrics_df.drop_duplicates(subset = 'source')\n",
        "lyrics_df = lyrics_df.drop_duplicates(subset = 'target')"
      ],
      "execution_count": 7,
      "outputs": []
    },
    {
      "cell_type": "code",
      "metadata": {
        "id": "0oOzV65g_23x"
      },
      "source": [
        "lyrics_df = lyrics_df[~lyrics_df.source.str.contains(\":\")]\n",
        "lyrics_df = lyrics_df[~lyrics_df.target.str.contains(\":\")]\n",
        "lyrics_df = lyrics_df[lyrics_df.target != \"break\"]"
      ],
      "execution_count": 8,
      "outputs": []
    },
    {
      "cell_type": "code",
      "metadata": {
        "id": "JNnJeYey_5yp"
      },
      "source": [
        "lyrics_df['source'] = lyrics_df['source'].apply(lambda x: noise_sentence(x, 0.25))"
      ],
      "execution_count": 9,
      "outputs": []
    },
    {
      "cell_type": "code",
      "metadata": {
        "id": "BJYwpkXj_7n_"
      },
      "source": [
        "lyrics_df.to_csv(\"lyrics_simple_noised_cummings_w_last_word.csv\", index = False)"
      ],
      "execution_count": 10,
      "outputs": []
    }
  ]
}