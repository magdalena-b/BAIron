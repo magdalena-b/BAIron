{
  "nbformat": 4,
  "nbformat_minor": 0,
  "metadata": {
    "colab": {
      "name": "emotional_sentiment_analysis.ipynb",
      "provenance": [],
      "collapsed_sections": []
    },
    "kernelspec": {
      "name": "python3",
      "display_name": "Python 3"
    },
    "language_info": {
      "name": "python"
    }
  },
  "cells": [
    {
      "cell_type": "code",
      "metadata": {
        "colab": {
          "base_uri": "https://localhost:8080/"
        },
        "id": "rKNzJ1NDmNb5",
        "outputId": "b9ace1cc-65d4-4aad-f127-624dc8257827"
      },
      "source": [
        "pip install text2emotion"
      ],
      "execution_count": 4,
      "outputs": [
        {
          "output_type": "stream",
          "name": "stdout",
          "text": [
            "Collecting text2emotion\n",
            "  Downloading text2emotion-0.0.5-py3-none-any.whl (57 kB)\n",
            "\u001b[?25l\r\u001b[K     |█████▊                          | 10 kB 23.3 MB/s eta 0:00:01\r\u001b[K     |███████████▍                    | 20 kB 30.0 MB/s eta 0:00:01\r\u001b[K     |█████████████████               | 30 kB 24.2 MB/s eta 0:00:01\r\u001b[K     |██████████████████████▊         | 40 kB 18.4 MB/s eta 0:00:01\r\u001b[K     |████████████████████████████▍   | 51 kB 8.5 MB/s eta 0:00:01\r\u001b[K     |████████████████████████████████| 57 kB 3.7 MB/s \n",
            "\u001b[?25hRequirement already satisfied: nltk in /usr/local/lib/python3.7/dist-packages (from text2emotion) (3.2.5)\n",
            "Collecting emoji>=0.6.0\n",
            "  Downloading emoji-1.6.1.tar.gz (170 kB)\n",
            "\u001b[K     |████████████████████████████████| 170 kB 14.5 MB/s \n",
            "\u001b[?25hRequirement already satisfied: six in /usr/local/lib/python3.7/dist-packages (from nltk->text2emotion) (1.15.0)\n",
            "Building wheels for collected packages: emoji\n",
            "  Building wheel for emoji (setup.py) ... \u001b[?25l\u001b[?25hdone\n",
            "  Created wheel for emoji: filename=emoji-1.6.1-py3-none-any.whl size=169314 sha256=5a5551c9f572af06579bed0551d4a81be765abe997a2598efbe186ba4c57a817\n",
            "  Stored in directory: /root/.cache/pip/wheels/ea/5f/d3/03d313ddb3c2a1a427bb4690f1621eea60fe6f2a30cc95940f\n",
            "Successfully built emoji\n",
            "Installing collected packages: emoji, text2emotion\n",
            "Successfully installed emoji-1.6.1 text2emotion-0.0.5\n"
          ]
        }
      ]
    },
    {
      "cell_type": "code",
      "metadata": {
        "id": "p6IrlMKKwJUY"
      },
      "source": [
        "import text2emotion as te\n",
        "import matplotlib.pyplot as plt\n",
        "import pandas as pd\n",
        "from google.colab import files"
      ],
      "execution_count": null,
      "outputs": []
    },
    {
      "cell_type": "code",
      "metadata": {
        "id": "nmnJGcwFwRGV"
      },
      "source": [
        "with open('shakespeare_sonnets.txt', 'r') as f:\n",
        "    shakespeare_sonnets=f.read()\n",
        "shak_sonnets_table = shakespeare_sonnets.split('\\n\\n')\n",
        "counter=1\n",
        "for text in shak_sonnets_table:\n",
        "  table = te.get_emotion(text)\n",
        "  labels = 'Happy', 'Angry','Surprise' , 'Sad', 'Fear'\n",
        "  colors = ['c', 'g', 'y', 'r', 'b']\n",
        "  sections = [table[x] for x in table]\n",
        "  plt.pie(sections, labels=labels, colors=colors,\n",
        "          startangle=90,\n",
        "          autopct = '%1.2f%%')\n",
        "  plt.axis('equal') # Try commenting this out.\n",
        "  plt.title('Shakespeare sonnet emotion analysis')\n",
        "  plt.savefig(f'shakespeare_pies/shakespeare_sonnet' + str(counter) + '.png')\n",
        "  plt.close()\n",
        "  counter = counter+1"
      ],
      "execution_count": 45,
      "outputs": []
    }
  ]
}