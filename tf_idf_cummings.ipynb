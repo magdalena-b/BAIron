{
  "nbformat": 4,
  "nbformat_minor": 0,
  "metadata": {
    "colab": {
      "name": "tf-idf-cummings.ipynb",
      "provenance": [],
      "collapsed_sections": [],
      "authorship_tag": "ABX9TyPcO8dxgWQwYBrshx4x+S4J",
      "include_colab_link": true
    },
    "kernelspec": {
      "name": "python3",
      "display_name": "Python 3"
    },
    "language_info": {
      "name": "python"
    },
    "accelerator": "GPU"
  },
  "cells": [
    {
      "cell_type": "markdown",
      "metadata": {
        "id": "view-in-github",
        "colab_type": "text"
      },
      "source": [
        "<a href=\"https://colab.research.google.com/github/magdalena-b/Bairon/blob/master/tf_idf_cummings.ipynb\" target=\"_parent\"><img src=\"https://colab.research.google.com/assets/colab-badge.svg\" alt=\"Open In Colab\"/></a>"
      ]
    },
    {
      "cell_type": "markdown",
      "metadata": {
        "id": "sGKPO0Qt_-nJ"
      },
      "source": [
        "https://towardsdatascience.com/tf-idf-for-document-ranking-from-scratch-in-python-on-real-world-dataset-796d339a4089"
      ]
    },
    {
      "cell_type": "markdown",
      "metadata": {
        "id": "ZkEKAewK__eg"
      },
      "source": [
        "https://github.com/openai/gpt-2-output-dataset"
      ]
    },
    {
      "cell_type": "code",
      "metadata": {
        "id": "GetcYZJ9PQVZ"
      },
      "source": [
        "f = open(\"cummings.txt\")\n",
        "text = f.read()"
      ],
      "execution_count": 161,
      "outputs": []
    },
    {
      "cell_type": "code",
      "metadata": {
        "colab": {
          "base_uri": "https://localhost:8080/"
        },
        "id": "J5_Q8zjPPtpq",
        "outputId": "e7e4d705-1d08-4ddb-e39f-786c82929328"
      },
      "source": [
        "import re\n",
        "print(text[0])\n",
        "print(len(re.findall(\"\\n\", text)))"
      ],
      "execution_count": 66,
      "outputs": [
        {
          "output_type": "stream",
          "name": "stdout",
          "text": [
            "i\n",
            "3674\n"
          ]
        }
      ]
    },
    {
      "cell_type": "markdown",
      "metadata": {
        "id": "SIg4H20QhmRl"
      },
      "source": [
        "# **Preprocessing**"
      ]
    },
    {
      "cell_type": "markdown",
      "metadata": {
        "id": "XUPa1WgNhvwh"
      },
      "source": [
        "### **Text to lower**"
      ]
    },
    {
      "cell_type": "code",
      "metadata": {
        "id": "ri7Q2mwhRPvm"
      },
      "source": [
        "text = text.lower()"
      ],
      "execution_count": 162,
      "outputs": []
    },
    {
      "cell_type": "markdown",
      "metadata": {
        "id": "NkS8dZ84iCQ5"
      },
      "source": [
        "### **Delete newline characters**"
      ]
    },
    {
      "cell_type": "code",
      "metadata": {
        "id": "VR-hQozxW6Cu"
      },
      "source": [
        "text = text.replace(\"\\n\", \" \")"
      ],
      "execution_count": 163,
      "outputs": []
    },
    {
      "cell_type": "markdown",
      "metadata": {
        "id": "bQnH4IQDiKoQ"
      },
      "source": [
        "### **Delete punctuation**"
      ]
    },
    {
      "cell_type": "code",
      "metadata": {
        "id": "UOfh7uFzgqhW"
      },
      "source": [
        "symbols = \"!\\\"#$%&()*+-.,…/:;<=>?@[\\]^_`{|}~\\n\"\n",
        "for i in symbols: \n",
        "  text = text.replace(i, \" \")"
      ],
      "execution_count": 164,
      "outputs": []
    },
    {
      "cell_type": "code",
      "metadata": {
        "id": "MH4Ijagg7rn_"
      },
      "source": [
        "print(text)"
      ],
      "execution_count": null,
      "outputs": []
    },
    {
      "cell_type": "markdown",
      "metadata": {
        "id": "6VP__nzEiTlY"
      },
      "source": [
        "### **Split text into list of words**"
      ]
    },
    {
      "cell_type": "code",
      "metadata": {
        "colab": {
          "base_uri": "https://localhost:8080/"
        },
        "id": "PuMIrUPMVI6b",
        "outputId": "78c49b69-d27d-44ee-a63f-8407b1ba9b51"
      },
      "source": [
        "words = text.split(\" \")\n",
        "print(words[0:100])"
      ],
      "execution_count": 166,
      "outputs": [
        {
          "output_type": "stream",
          "name": "stdout",
          "text": [
            "['i', 'like', 'my', 'body', 'when', 'it', 'is', 'with', 'your', 'body', '', 'it', 'is', 'so', 'quite', 'new', 'a', 'thing', '', 'muscles', 'better', 'and', 'nerves', 'more', '', 'i', 'like', 'your', 'body', '', '', 'i', 'like', 'what', 'it', 'does', '', 'i', 'like', 'its', 'hows', '', '', 'i', 'like', 'to', 'feel', 'the', 'spine', 'of', 'your', 'body', 'and', 'its', 'bones', 'and', 'the', 'trembling', '', 'firm', 'smooth', 'ness', 'and', 'which', 'i', 'will', 'again', 'and', 'again', 'and', 'again', 'kiss', '', 'i', 'like', 'kissing', 'this', 'and', 'that', 'of', 'you', '', 'i', 'like', '', 'slowly', 'stroking', 'the', 'shocking', 'fuzz', 'of', 'your', 'electric', 'furr', 'and', 'what', 'is', 'it', 'comes', 'over']\n"
          ]
        }
      ]
    },
    {
      "cell_type": "markdown",
      "metadata": {
        "id": "3052n6EIiaCg"
      },
      "source": [
        "### **Delete stopwords**"
      ]
    },
    {
      "cell_type": "code",
      "metadata": {
        "colab": {
          "base_uri": "https://localhost:8080/"
        },
        "id": "Lusqaj49RjoQ",
        "outputId": "716391b4-6cf3-48f6-92ea-858c2b210d7d"
      },
      "source": [
        "import nltk\n",
        "nltk.download('stopwords')"
      ],
      "execution_count": 71,
      "outputs": [
        {
          "output_type": "stream",
          "name": "stdout",
          "text": [
            "[nltk_data] Downloading package stopwords to /root/nltk_data...\n",
            "[nltk_data]   Package stopwords is already up-to-date!\n"
          ]
        },
        {
          "output_type": "execute_result",
          "data": {
            "text/plain": [
              "True"
            ]
          },
          "metadata": {},
          "execution_count": 71
        }
      ]
    },
    {
      "cell_type": "code",
      "metadata": {
        "colab": {
          "base_uri": "https://localhost:8080/"
        },
        "id": "MUQSV7UvR2yt",
        "outputId": "f8306f87-01b1-40a7-9f75-3dc95143b94c"
      },
      "source": [
        "from nltk.corpus import stopwords\n",
        "stopwords.words('english')\n",
        "print(stopwords.words('english'))"
      ],
      "execution_count": 72,
      "outputs": [
        {
          "output_type": "stream",
          "name": "stdout",
          "text": [
            "['i', 'me', 'my', 'myself', 'we', 'our', 'ours', 'ourselves', 'you', \"you're\", \"you've\", \"you'll\", \"you'd\", 'your', 'yours', 'yourself', 'yourselves', 'he', 'him', 'his', 'himself', 'she', \"she's\", 'her', 'hers', 'herself', 'it', \"it's\", 'its', 'itself', 'they', 'them', 'their', 'theirs', 'themselves', 'what', 'which', 'who', 'whom', 'this', 'that', \"that'll\", 'these', 'those', 'am', 'is', 'are', 'was', 'were', 'be', 'been', 'being', 'have', 'has', 'had', 'having', 'do', 'does', 'did', 'doing', 'a', 'an', 'the', 'and', 'but', 'if', 'or', 'because', 'as', 'until', 'while', 'of', 'at', 'by', 'for', 'with', 'about', 'against', 'between', 'into', 'through', 'during', 'before', 'after', 'above', 'below', 'to', 'from', 'up', 'down', 'in', 'out', 'on', 'off', 'over', 'under', 'again', 'further', 'then', 'once', 'here', 'there', 'when', 'where', 'why', 'how', 'all', 'any', 'both', 'each', 'few', 'more', 'most', 'other', 'some', 'such', 'no', 'nor', 'not', 'only', 'own', 'same', 'so', 'than', 'too', 'very', 's', 't', 'can', 'will', 'just', 'don', \"don't\", 'should', \"should've\", 'now', 'd', 'll', 'm', 'o', 're', 've', 'y', 'ain', 'aren', \"aren't\", 'couldn', \"couldn't\", 'didn', \"didn't\", 'doesn', \"doesn't\", 'hadn', \"hadn't\", 'hasn', \"hasn't\", 'haven', \"haven't\", 'isn', \"isn't\", 'ma', 'mightn', \"mightn't\", 'mustn', \"mustn't\", 'needn', \"needn't\", 'shan', \"shan't\", 'shouldn', \"shouldn't\", 'wasn', \"wasn't\", 'weren', \"weren't\", 'won', \"won't\", 'wouldn', \"wouldn't\"]\n"
          ]
        }
      ]
    },
    {
      "cell_type": "code",
      "metadata": {
        "id": "XUSXXAWXSRpu"
      },
      "source": [
        "words_without_stops = [word for word in words if word not in stopwords.words('english')]"
      ],
      "execution_count": 167,
      "outputs": []
    },
    {
      "cell_type": "code",
      "metadata": {
        "colab": {
          "base_uri": "https://localhost:8080/"
        },
        "id": "7e4zfV-UV44x",
        "outputId": "67cf34b4-855d-4ecf-fe1a-71d46e42d82d"
      },
      "source": [
        "print(words_without_stops[0:100])"
      ],
      "execution_count": 168,
      "outputs": [
        {
          "output_type": "stream",
          "name": "stdout",
          "text": [
            "['like', 'body', 'body', '', 'quite', 'new', 'thing', '', 'muscles', 'better', 'nerves', '', 'like', 'body', '', '', 'like', '', 'like', 'hows', '', '', 'like', 'feel', 'spine', 'body', 'bones', 'trembling', '', 'firm', 'smooth', 'ness', 'kiss', '', 'like', 'kissing', '', 'like', '', 'slowly', 'stroking', 'shocking', 'fuzz', 'electric', 'furr', 'comes', 'parting', 'flesh', '', 'eyes', 'big', 'love', 'crumbs', '', '', 'possibly', 'like', 'thrill', '', 'quite', 'new', '', 'wade', '', '', '', '', '', '', '', '', '', '', '', '', '', '', '', '', '', '', '', '', '', '', '', '', 'till', 'thighs', 'steeped', 'burning', 'flowers', 'take', 'sun', 'mouth', 'leap', 'ripe', 'air', '', '']\n"
          ]
        }
      ]
    },
    {
      "cell_type": "markdown",
      "metadata": {
        "id": "Z2Uc8z2ykyZM"
      },
      "source": [
        "### **Delete empty words**"
      ]
    },
    {
      "cell_type": "code",
      "metadata": {
        "colab": {
          "base_uri": "https://localhost:8080/"
        },
        "id": "fvdl64sEkxde",
        "outputId": "ba31bc77-a92f-44d5-9e25-af56e3613be1"
      },
      "source": [
        "preprocessed_words = [word for word in words_without_stops if word != \"\"]\n",
        "print(preprocessed_words[0:100])"
      ],
      "execution_count": 169,
      "outputs": [
        {
          "output_type": "stream",
          "name": "stdout",
          "text": [
            "['like', 'body', 'body', 'quite', 'new', 'thing', 'muscles', 'better', 'nerves', 'like', 'body', 'like', 'like', 'hows', 'like', 'feel', 'spine', 'body', 'bones', 'trembling', 'firm', 'smooth', 'ness', 'kiss', 'like', 'kissing', 'like', 'slowly', 'stroking', 'shocking', 'fuzz', 'electric', 'furr', 'comes', 'parting', 'flesh', 'eyes', 'big', 'love', 'crumbs', 'possibly', 'like', 'thrill', 'quite', 'new', 'wade', 'till', 'thighs', 'steeped', 'burning', 'flowers', 'take', 'sun', 'mouth', 'leap', 'ripe', 'air', 'alive', 'closed', 'eyes', 'dash', 'darkness', 'sleeping', 'curves', 'body', 'shall', 'enter', 'fingers', 'smooth', 'mastery', 'chasteness', 'sea', 'girls', 'complete', 'mystery', 'flesh', 'rise', 'thousand', 'years', 'lipping', 'flowers', 'set', 'teeth', 'silver', 'moon', 'humanity', 'love', 'would', 'rather', 'black', 'boots', 'success', 'enquire', 'whose', 'soul', 'dangles', 'watch', 'chain', 'would', 'embarrassing']\n"
          ]
        }
      ]
    }
  ]
}