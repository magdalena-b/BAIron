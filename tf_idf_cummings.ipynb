{
  "nbformat": 4,
  "nbformat_minor": 0,
  "metadata": {
    "colab": {
      "name": "tf-idf-cummings.ipynb",
      "provenance": [],
      "collapsed_sections": [],
      "authorship_tag": "ABX9TyMYscNOdXGgww/c0SvyLIGZ",
      "include_colab_link": true
    },
    "kernelspec": {
      "name": "python3",
      "display_name": "Python 3"
    },
    "language_info": {
      "name": "python"
    },
    "accelerator": "GPU"
  },
  "cells": [
    {
      "cell_type": "markdown",
      "metadata": {
        "id": "view-in-github",
        "colab_type": "text"
      },
      "source": [
        "<a href=\"https://colab.research.google.com/github/magdalena-b/Bairon/blob/master/tf_idf_cummings.ipynb\" target=\"_parent\"><img src=\"https://colab.research.google.com/assets/colab-badge.svg\" alt=\"Open In Colab\"/></a>"
      ]
    },
    {
      "cell_type": "markdown",
      "metadata": {
        "id": "sGKPO0Qt_-nJ"
      },
      "source": [
        "https://towardsdatascience.com/tf-idf-for-document-ranking-from-scratch-in-python-on-real-world-dataset-796d339a4089"
      ]
    },
    {
      "cell_type": "markdown",
      "metadata": {
        "id": "ZkEKAewK__eg"
      },
      "source": [
        "https://github.com/openai/gpt-2-output-dataset"
      ]
    },
    {
      "cell_type": "code",
      "metadata": {
        "id": "GetcYZJ9PQVZ"
      },
      "source": [
        "f = open(\"cummings.txt\")\n",
        "text = f.read()\n",
        "print(text)"
      ],
      "execution_count": null,
      "outputs": []
    },
    {
      "cell_type": "code",
      "metadata": {
        "colab": {
          "base_uri": "https://localhost:8080/"
        },
        "id": "J5_Q8zjPPtpq",
        "outputId": "8fcf5a93-9128-483d-884b-034d703eb21e"
      },
      "source": [
        "import re\n",
        "print(text[0])\n",
        "print(len(re.findall(\"\\n\", text)))"
      ],
      "execution_count": 41,
      "outputs": [
        {
          "output_type": "stream",
          "name": "stdout",
          "text": [
            "i\n",
            "3674\n"
          ]
        }
      ]
    },
    {
      "cell_type": "code",
      "metadata": {
        "id": "ri7Q2mwhRPvm"
      },
      "source": [
        "text = text.lower()\n",
        "print(text)"
      ],
      "execution_count": null,
      "outputs": []
    },
    {
      "cell_type": "code",
      "metadata": {
        "colab": {
          "base_uri": "https://localhost:8080/"
        },
        "id": "Lusqaj49RjoQ",
        "outputId": "2c5732a7-ed27-485c-8fc2-1f54a8b36915"
      },
      "source": [
        "import nltk\n",
        "nltk.download('stopwords')"
      ],
      "execution_count": 19,
      "outputs": [
        {
          "output_type": "stream",
          "name": "stdout",
          "text": [
            "[nltk_data] Downloading package stopwords to /root/nltk_data...\n",
            "[nltk_data]   Unzipping corpora/stopwords.zip.\n"
          ]
        },
        {
          "output_type": "execute_result",
          "data": {
            "text/plain": [
              "True"
            ]
          },
          "metadata": {},
          "execution_count": 19
        }
      ]
    },
    {
      "cell_type": "code",
      "metadata": {
        "colab": {
          "base_uri": "https://localhost:8080/"
        },
        "id": "MUQSV7UvR2yt",
        "outputId": "cc32efb9-b5a5-489f-eb70-d400368984e9"
      },
      "source": [
        "from nltk.corpus import stopwords\n",
        "stopwords.words('english')\n",
        "print(stopwords.words('english'))"
      ],
      "execution_count": 51,
      "outputs": [
        {
          "output_type": "stream",
          "name": "stdout",
          "text": [
            "['i', 'me', 'my', 'myself', 'we', 'our', 'ours', 'ourselves', 'you', \"you're\", \"you've\", \"you'll\", \"you'd\", 'your', 'yours', 'yourself', 'yourselves', 'he', 'him', 'his', 'himself', 'she', \"she's\", 'her', 'hers', 'herself', 'it', \"it's\", 'its', 'itself', 'they', 'them', 'their', 'theirs', 'themselves', 'what', 'which', 'who', 'whom', 'this', 'that', \"that'll\", 'these', 'those', 'am', 'is', 'are', 'was', 'were', 'be', 'been', 'being', 'have', 'has', 'had', 'having', 'do', 'does', 'did', 'doing', 'a', 'an', 'the', 'and', 'but', 'if', 'or', 'because', 'as', 'until', 'while', 'of', 'at', 'by', 'for', 'with', 'about', 'against', 'between', 'into', 'through', 'during', 'before', 'after', 'above', 'below', 'to', 'from', 'up', 'down', 'in', 'out', 'on', 'off', 'over', 'under', 'again', 'further', 'then', 'once', 'here', 'there', 'when', 'where', 'why', 'how', 'all', 'any', 'both', 'each', 'few', 'more', 'most', 'other', 'some', 'such', 'no', 'nor', 'not', 'only', 'own', 'same', 'so', 'than', 'too', 'very', 's', 't', 'can', 'will', 'just', 'don', \"don't\", 'should', \"should've\", 'now', 'd', 'll', 'm', 'o', 're', 've', 'y', 'ain', 'aren', \"aren't\", 'couldn', \"couldn't\", 'didn', \"didn't\", 'doesn', \"doesn't\", 'hadn', \"hadn't\", 'hasn', \"hasn't\", 'haven', \"haven't\", 'isn', \"isn't\", 'ma', 'mightn', \"mightn't\", 'mustn', \"mustn't\", 'needn', \"needn't\", 'shan', \"shan't\", 'shouldn', \"shouldn't\", 'wasn', \"wasn't\", 'weren', \"weren't\", 'won', \"won't\", 'wouldn', \"wouldn't\"]\n"
          ]
        }
      ]
    },
    {
      "cell_type": "code",
      "metadata": {
        "id": "VR-hQozxW6Cu"
      },
      "source": [
        "text = text.replace(\"\\n\", \" \")\n",
        "print(text)"
      ],
      "execution_count": null,
      "outputs": []
    },
    {
      "cell_type": "code",
      "metadata": {
        "colab": {
          "base_uri": "https://localhost:8080/"
        },
        "id": "PuMIrUPMVI6b",
        "outputId": "4870dbd4-23d8-429f-e934-0846b9577ae4"
      },
      "source": [
        "words = text.split(\" \")\n",
        "print(words[0:100])"
      ],
      "execution_count": 48,
      "outputs": [
        {
          "output_type": "stream",
          "name": "stdout",
          "text": [
            "['i', 'like', 'my', 'body', 'when', 'it', 'is', 'with', 'your', 'body.', 'it', 'is', 'so', 'quite', 'new', 'a', 'thing.', 'muscles', 'better', 'and', 'nerves', 'more.', 'i', 'like', 'your', 'body.', '', 'i', 'like', 'what', 'it', 'does,', 'i', 'like', 'its', 'hows.', '', 'i', 'like', 'to', 'feel', 'the', 'spine', 'of', 'your', 'body', 'and', 'its', 'bones,and', 'the', 'trembling', '-firm-smooth', 'ness', 'and', 'which', 'i', 'will', 'again', 'and', 'again', 'and', 'again', 'kiss,', 'i', 'like', 'kissing', 'this', 'and', 'that', 'of', 'you,', 'i', 'like,', 'slowly', 'stroking', 'the,shocking', 'fuzz', 'of', 'your', 'electric', 'furr,and', 'what-is-it', 'comes', 'over', 'parting', 'flesh….and', 'eyes', 'big', 'love-crumbs,', '', 'and', 'possibly', 'i', 'like', 'the', 'thrill', '', 'of', 'under', 'me']\n"
          ]
        }
      ]
    },
    {
      "cell_type": "code",
      "metadata": {
        "id": "XUSXXAWXSRpu"
      },
      "source": [
        "words_without_stops = [word for word in words if word not in stopwords.words('english')]"
      ],
      "execution_count": 52,
      "outputs": []
    },
    {
      "cell_type": "code",
      "metadata": {
        "colab": {
          "base_uri": "https://localhost:8080/"
        },
        "id": "7e4zfV-UV44x",
        "outputId": "1978471a-6728-40b9-f43e-d375feabcd38"
      },
      "source": [
        "print(words_without_stops[0:100])"
      ],
      "execution_count": 53,
      "outputs": [
        {
          "output_type": "stream",
          "name": "stdout",
          "text": [
            "['like', 'body', 'body.', 'quite', 'new', 'thing.', 'muscles', 'better', 'nerves', 'more.', 'like', 'body.', '', 'like', 'does,', 'like', 'hows.', '', 'like', 'feel', 'spine', 'body', 'bones,and', 'trembling', '-firm-smooth', 'ness', 'kiss,', 'like', 'kissing', 'you,', 'like,', 'slowly', 'stroking', 'the,shocking', 'fuzz', 'electric', 'furr,and', 'what-is-it', 'comes', 'parting', 'flesh….and', 'eyes', 'big', 'love-crumbs,', '', 'possibly', 'like', 'thrill', '', 'quite', 'new', '', 'wade', '', '', '', '', '', '', '', '', '', '', '', '', '', '', '', '', '', '', '', '', '', '', '', '', 'till', 'thighs', 'steeped', 'burning', 'flowers', 'take', 'sun', 'mouth', 'leap', 'ripe', 'air', '', '', '', '', '', '', '', '', '', '', '', '']\n"
          ]
        }
      ]
    }
  ]
}