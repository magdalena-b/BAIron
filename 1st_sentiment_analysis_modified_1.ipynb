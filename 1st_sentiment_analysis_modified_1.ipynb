{
  "nbformat": 4,
  "nbformat_minor": 0,
  "metadata": {
    "colab": {
      "name": "1st_sentiment_analysis_modified_1",
      "provenance": []
    },
    "kernelspec": {
      "name": "python3",
      "display_name": "Python 3"
    },
    "language_info": {
      "name": "python"
    }
  },
  "cells": [
    {
      "cell_type": "markdown",
      "metadata": {
        "id": "KnDv3Qs288xW"
      },
      "source": [
        "Author: Paweł Pławecki"
      ]
    },
    {
      "cell_type": "markdown",
      "metadata": {
        "id": "PdsqPoAY8zID"
      },
      "source": [
        "I used written sentiment analysis (tried to write it by myself - gone baaad ) : https://github.com/cjhutto/vaderSentiment"
      ]
    },
    {
      "cell_type": "markdown",
      "metadata": {
        "id": "PJspXbwuyM_f"
      },
      "source": [
        "Downloading NLTK and needed resources..."
      ]
    },
    {
      "cell_type": "code",
      "metadata": {
        "colab": {
          "base_uri": "https://localhost:8080/"
        },
        "id": "OINNEdZmTn9r",
        "outputId": "7a6f8df3-bcd9-412d-91bc-f8e9907fe130"
      },
      "source": [
        "import nltk\n",
        "nltk.download('vader_lexicon')\n",
        "from nltk.sentiment.vader import SentimentIntensityAnalyzer"
      ],
      "execution_count": 4,
      "outputs": [
        {
          "output_type": "stream",
          "text": [
            "[nltk_data] Downloading package vader_lexicon to /root/nltk_data...\n",
            "[nltk_data]   Package vader_lexicon is already up-to-date!\n"
          ],
          "name": "stdout"
        }
      ]
    },
    {
      "cell_type": "markdown",
      "metadata": {
        "id": "hwZNWHW8yTKF"
      },
      "source": [
        "Basic sentiment analysis"
      ]
    },
    {
      "cell_type": "code",
      "metadata": {
        "id": "m-gjQSYEz49P"
      },
      "source": [
        "#def get_two_largest(a,b,c):\n",
        " # list = []  \n",
        "  #list.append(a)\n",
        "  #list.append(b)\n",
        "  #list.append(c)\n",
        "  #list.sort()\n",
        "  #return (list.pop(1), list.pop(1))\n",
        "\n",
        "def get_majority_sentiment(negative, positive, neutral):\n",
        "  if (negative > positive + neutral + 10):\n",
        "     return \"This poem has mostly negative sentiment\"\n",
        "  if (positive > neutral + negative + 10):\n",
        "     return \"This poem has mostly positive sentiment\"\n",
        "  if((positive - negative >= 15)):\n",
        "    return \"This poem has more positive sentiment than negative\"\n",
        "  if((negative - positive >= 15)):\n",
        "    return \"This poem has more negative sentiment than positive\"\n",
        "  return \"This poem has mostly neutral sentiment\"\n"
      ],
      "execution_count": 70,
      "outputs": []
    },
    {
      "cell_type": "markdown",
      "metadata": {
        "id": "f_B5snco6VDl"
      },
      "source": [
        "Detailed sentiment analysis:"
      ]
    },
    {
      "cell_type": "code",
      "metadata": {
        "id": "fS5dwhQM6bYl"
      },
      "source": [
        "def get_detailed_sentiment(text):\n",
        "  sid = SentimentIntensityAnalyzer()\n",
        "  # returns dictionary\n",
        "  analyze_results = sid.polarity_scores(text)\n",
        "  negative_percentage = round(analyze_results[\"neg\"] * 100, 3)\n",
        "  positive_percentage = round(analyze_results[\"pos\"] * 100, 3)\n",
        "  neutral_percentage = round(analyze_results[\"neu\"] * 100, 3)\n",
        "  return (negative_percentage, positive_percentage, neutral_percentage)"
      ],
      "execution_count": 54,
      "outputs": []
    },
    {
      "cell_type": "markdown",
      "metadata": {
        "id": "L-TA1cYo6R0D"
      },
      "source": [
        "Example:"
      ]
    },
    {
      "cell_type": "code",
      "metadata": {
        "colab": {
          "base_uri": "https://localhost:8080/"
        },
        "id": "S7VNRAC4VIcz",
        "outputId": "605040b2-88b1-4499-cb80-1ef7111fd20a"
      },
      "source": [
        "# example poem\n",
        "text = \"\"\"O, how much more doth beauty beauteous seem\n",
        "By that sweet ornament which truth doth give!\n",
        "The rose looks fair, but fairer we it deem\n",
        "For that sweet odour which doth in it live.\n",
        "The canker-blooms have full as deep a dye\n",
        "As the perfumed tincture of the roses,\n",
        "Hang on such thorns and play as wantonly\n",
        "When summer's breath their masked buds discloses:\n",
        "But, for their virtue only is their show,\n",
        "They live unwoo'd and unrespected fade,\n",
        "Die to themselves. Sweet roses do not so;\n",
        "Of their sweet deaths are sweetest odours made:\n",
        "And so of you, beauteous and lovely youth,\n",
        "When that shall fade, my verse distills your truth. \"\"\"\n",
        "sentiment_results_table = get_detailed_sentiment(text)\n",
        "print(\"Basic sentiment analysis: \")\n",
        "print(get_majority_sentiment(sentiment_results_table[0], sentiment_results_table[1], sentiment_results_table[2]), \"\\n\")\n",
        "print(\"Detailed sentiment analysis: \")\n",
        "print(\"Negative:\", sentiment_results_table[0], \"%\")\n",
        "print(\"Positive:\", sentiment_results_table[1], \"%\")\n",
        "print(\"Neutral:\", sentiment_results_table[2], \"%\")\n",
        "print(\"This poem has\", len(text), \"signs\")\n",
        "\n"
      ],
      "execution_count": 73,
      "outputs": [
        {
          "output_type": "stream",
          "text": [
            "Basic sentiment analysis: \n",
            "This poem has more positive sentiment than negative \n",
            "\n",
            "Detailed sentiment analysis: \n",
            "Negative: 3.7 %\n",
            "Positive: 29.6 %\n",
            "Neutral: 66.7 %\n",
            "This poem has 616 signs\n"
          ],
          "name": "stdout"
        }
      ]
    }
  ]
}