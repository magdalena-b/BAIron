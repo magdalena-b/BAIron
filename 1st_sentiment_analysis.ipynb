{
  "nbformat": 4,
  "nbformat_minor": 0,
  "metadata": {
    "colab": {
      "name": "1st_sentiment_analysis",
      "provenance": []
    },
    "kernelspec": {
      "name": "python3",
      "display_name": "Python 3"
    },
    "language_info": {
      "name": "python"
    }
  },
  "cells": [
    {
      "cell_type": "markdown",
      "metadata": {
        "id": "KnDv3Qs288xW"
      },
      "source": [
        "Author: Paweł Pławecki"
      ]
    },
    {
      "cell_type": "markdown",
      "metadata": {
        "id": "PdsqPoAY8zID"
      },
      "source": [
        "I used written sentiment analysis (tried to write it by myself - gone baaad ) : https://github.com/cjhutto/vaderSentiment"
      ]
    },
    {
      "cell_type": "markdown",
      "metadata": {
        "id": "PJspXbwuyM_f"
      },
      "source": [
        "Downloading NLTK and needed resources..."
      ]
    },
    {
      "cell_type": "code",
      "metadata": {
        "colab": {
          "base_uri": "https://localhost:8080/"
        },
        "id": "OINNEdZmTn9r",
        "outputId": "7a6f8df3-bcd9-412d-91bc-f8e9907fe130"
      },
      "source": [
        "import nltk\n",
        "nltk.download('vader_lexicon')\n",
        "from nltk.sentiment.vader import SentimentIntensityAnalyzer"
      ],
      "execution_count": 4,
      "outputs": [
        {
          "output_type": "stream",
          "text": [
            "[nltk_data] Downloading package vader_lexicon to /root/nltk_data...\n",
            "[nltk_data]   Package vader_lexicon is already up-to-date!\n"
          ],
          "name": "stdout"
        }
      ]
    },
    {
      "cell_type": "markdown",
      "metadata": {
        "id": "hwZNWHW8yTKF"
      },
      "source": [
        "Basic sentiment analysis"
      ]
    },
    {
      "cell_type": "code",
      "metadata": {
        "id": "m-gjQSYEz49P"
      },
      "source": [
        "#def get_two_largest(a,b,c):\n",
        " # list = []  \n",
        "  #list.append(a)\n",
        "  #list.append(b)\n",
        "  #list.append(c)\n",
        "  #list.sort()\n",
        "  #return (list.pop(1), list.pop(1))\n",
        "\n",
        "def get_majority_sentiment(negative, positive, neutral):\n",
        "  if (negative > positive + neutral + 10):\n",
        "     return \"This poem has mostly negative sentiment\"\n",
        "  if (neutral > positive + negative + 10):\n",
        "     return \"This poem has mostly neutral sentiment\"\n",
        "  if (positive > neutral + negative + 10):\n",
        "     return \"This poem has mostly positive sentiment\"\n",
        "  if(max(negative, positive, neutral) == positive and (positive - negative >= 15)):\n",
        "    return \"This poem has mostly positive sentiment\"\n",
        "  if(max(negative, positive, neutral) == negative and (negative - positive >= 15)):\n",
        "    return \"This poem has mostly negative sentiment\"\n",
        "  return \"This poem has mostly neutral sentiment\"\n"
      ],
      "execution_count": 65,
      "outputs": []
    },
    {
      "cell_type": "markdown",
      "metadata": {
        "id": "f_B5snco6VDl"
      },
      "source": [
        "Detailed sentiment analysis:"
      ]
    },
    {
      "cell_type": "code",
      "metadata": {
        "id": "fS5dwhQM6bYl"
      },
      "source": [
        "def get_detailed_sentiment(text):\n",
        "  sid = SentimentIntensityAnalyzer()\n",
        "  # returns dictionary\n",
        "  analyze_results = sid.polarity_scores(text)\n",
        "  negative_percentage = round(analyze_results[\"neg\"] * 100, 3)\n",
        "  positive_percentage = round(analyze_results[\"pos\"] * 100, 3)\n",
        "  neutral_percentage = round(analyze_results[\"neu\"] * 100, 3)\n",
        "  return (negative_percentage, positive_percentage, neutral_percentage)"
      ],
      "execution_count": 54,
      "outputs": []
    },
    {
      "cell_type": "markdown",
      "metadata": {
        "id": "L-TA1cYo6R0D"
      },
      "source": [
        "Example:"
      ]
    },
    {
      "cell_type": "code",
      "metadata": {
        "colab": {
          "base_uri": "https://localhost:8080/"
        },
        "id": "S7VNRAC4VIcz",
        "outputId": "ddfff423-e5c4-402f-b079-d0ded01d237d"
      },
      "source": [
        "# example poem\n",
        "text = \"\"\" HARK! hark! the lark at heaven's gate sings,\n",
        "And Phoebus 'gins arise,\n",
        "His steeds to water at those springs\n",
        "On chaliced flowers that lies;\n",
        "And winking Mary-buds begin\n",
        "To ope their golden eyes:\n",
        "With everything that pretty bin,\n",
        "My lady sweet, arise!\n",
        "Arise, arise! \"\"\"\n",
        "sentiment_results_table = get_detailed_sentiment(text)\n",
        "print(\"Basic sentiment analysis: \")\n",
        "print(get_majority_sentiment(sentiment_results_table[0], sentiment_results_table[1], sentiment_results_table[2]), \"\\n\")\n",
        "print(\"Detailed sentiment analysis: \")\n",
        "print(\"Negative:\", sentiment_results_table[0], \"%\")\n",
        "print(\"Positive:\", sentiment_results_table[1], \"%\")\n",
        "print(\"Neutral:\", sentiment_results_table[2], \"%\")\n",
        "print(\"This poem has\", len(text), \"signs\")\n",
        "\n"
      ],
      "execution_count": 67,
      "outputs": [
        {
          "output_type": "stream",
          "text": [
            "Basic sentiment analysis: \n",
            "This poem has mostly neutral sentiment \n",
            "\n",
            "Detailed sentiment analysis: \n",
            "Negative: 5.5 %\n",
            "Positive: 14.4 %\n",
            "Neutral: 80.1 %\n",
            "This poem has 262 signs\n"
          ],
          "name": "stdout"
        }
      ]
    }
  ]
}