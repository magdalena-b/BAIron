{
  "nbformat": 4,
  "nbformat_minor": 0,
  "metadata": {
    "colab": {
      "name": "ginsberg.ipynb",
      "provenance": [],
      "authorship_tag": "ABX9TyO3YhumXHJ0erd2WrqqVhqa",
      "include_colab_link": true
    },
    "kernelspec": {
      "name": "python3",
      "display_name": "Python 3"
    },
    "language_info": {
      "name": "python"
    }
  },
  "cells": [
    {
      "cell_type": "markdown",
      "metadata": {
        "id": "view-in-github",
        "colab_type": "text"
      },
      "source": [
        "<a href=\"https://colab.research.google.com/github/magdalena-b/BAIron/blob/master/ginsberg.ipynb\" target=\"_parent\"><img src=\"https://colab.research.google.com/assets/colab-badge.svg\" alt=\"Open In Colab\"/></a>"
      ]
    },
    {
      "cell_type": "code",
      "metadata": {
        "colab": {
          "base_uri": "https://localhost:8080/"
        },
        "id": "xKklDZG_M994",
        "outputId": "818809f4-b870-4558-8ae4-c210c3a2c64e"
      },
      "source": [
        "!pip install transformers\n",
        "!pip install tensorflow==1.13.2\n",
        "!pip install -q gpt-2-simple"
      ],
      "execution_count": 2,
      "outputs": [
        {
          "output_type": "stream",
          "text": [
            "Collecting transformers\n",
            "\u001b[?25l  Downloading https://files.pythonhosted.org/packages/b0/9e/5b80becd952d5f7250eaf8fc64b957077b12ccfe73e9c03d37146ab29712/transformers-4.6.0-py3-none-any.whl (2.3MB)\n",
            "\u001b[K     |████████████████████████████████| 2.3MB 6.4MB/s \n",
            "\u001b[?25hRequirement already satisfied: packaging in /usr/local/lib/python3.7/dist-packages (from transformers) (20.9)\n",
            "Collecting sacremoses\n",
            "\u001b[?25l  Downloading https://files.pythonhosted.org/packages/75/ee/67241dc87f266093c533a2d4d3d69438e57d7a90abb216fa076e7d475d4a/sacremoses-0.0.45-py3-none-any.whl (895kB)\n",
            "\u001b[K     |████████████████████████████████| 901kB 29.9MB/s \n",
            "\u001b[?25hCollecting tokenizers<0.11,>=0.10.1\n",
            "\u001b[?25l  Downloading https://files.pythonhosted.org/packages/ae/04/5b870f26a858552025a62f1649c20d29d2672c02ff3c3fb4c688ca46467a/tokenizers-0.10.2-cp37-cp37m-manylinux2010_x86_64.whl (3.3MB)\n",
            "\u001b[K     |████████████████████████████████| 3.3MB 36.2MB/s \n",
            "\u001b[?25hRequirement already satisfied: filelock in /usr/local/lib/python3.7/dist-packages (from transformers) (3.0.12)\n",
            "Collecting huggingface-hub==0.0.8\n",
            "  Downloading https://files.pythonhosted.org/packages/a1/88/7b1e45720ecf59c6c6737ff332f41c955963090a18e72acbcbeac6b25e86/huggingface_hub-0.0.8-py3-none-any.whl\n",
            "Requirement already satisfied: tqdm>=4.27 in /usr/local/lib/python3.7/dist-packages (from transformers) (4.41.1)\n",
            "Requirement already satisfied: importlib-metadata; python_version < \"3.8\" in /usr/local/lib/python3.7/dist-packages (from transformers) (4.0.1)\n",
            "Requirement already satisfied: numpy>=1.17 in /usr/local/lib/python3.7/dist-packages (from transformers) (1.19.5)\n",
            "Requirement already satisfied: regex!=2019.12.17 in /usr/local/lib/python3.7/dist-packages (from transformers) (2019.12.20)\n",
            "Requirement already satisfied: requests in /usr/local/lib/python3.7/dist-packages (from transformers) (2.23.0)\n",
            "Requirement already satisfied: pyparsing>=2.0.2 in /usr/local/lib/python3.7/dist-packages (from packaging->transformers) (2.4.7)\n",
            "Requirement already satisfied: joblib in /usr/local/lib/python3.7/dist-packages (from sacremoses->transformers) (1.0.1)\n",
            "Requirement already satisfied: click in /usr/local/lib/python3.7/dist-packages (from sacremoses->transformers) (8.0.0)\n",
            "Requirement already satisfied: six in /usr/local/lib/python3.7/dist-packages (from sacremoses->transformers) (1.15.0)\n",
            "Requirement already satisfied: zipp>=0.5 in /usr/local/lib/python3.7/dist-packages (from importlib-metadata; python_version < \"3.8\"->transformers) (3.4.1)\n",
            "Requirement already satisfied: typing-extensions>=3.6.4; python_version < \"3.8\" in /usr/local/lib/python3.7/dist-packages (from importlib-metadata; python_version < \"3.8\"->transformers) (3.7.4.3)\n",
            "Requirement already satisfied: certifi>=2017.4.17 in /usr/local/lib/python3.7/dist-packages (from requests->transformers) (2020.12.5)\n",
            "Requirement already satisfied: chardet<4,>=3.0.2 in /usr/local/lib/python3.7/dist-packages (from requests->transformers) (3.0.4)\n",
            "Requirement already satisfied: urllib3!=1.25.0,!=1.25.1,<1.26,>=1.21.1 in /usr/local/lib/python3.7/dist-packages (from requests->transformers) (1.24.3)\n",
            "Requirement already satisfied: idna<3,>=2.5 in /usr/local/lib/python3.7/dist-packages (from requests->transformers) (2.10)\n",
            "Installing collected packages: sacremoses, tokenizers, huggingface-hub, transformers\n",
            "Successfully installed huggingface-hub-0.0.8 sacremoses-0.0.45 tokenizers-0.10.2 transformers-4.6.0\n",
            "Collecting tensorflow==1.13.2\n",
            "\u001b[?25l  Downloading https://files.pythonhosted.org/packages/bc/70/45d3b9fab768215a2055c7819d39547a4b0b7401b4583094068741aff99b/tensorflow-1.13.2-cp37-cp37m-manylinux1_x86_64.whl (92.7MB)\n",
            "\u001b[K     |████████████████████████████████| 92.7MB 47kB/s \n",
            "\u001b[?25hRequirement already satisfied: gast>=0.2.0 in /usr/local/lib/python3.7/dist-packages (from tensorflow==1.13.2) (0.3.3)\n",
            "Requirement already satisfied: wheel>=0.26 in /usr/local/lib/python3.7/dist-packages (from tensorflow==1.13.2) (0.36.2)\n",
            "Requirement already satisfied: keras-preprocessing>=1.0.5 in /usr/local/lib/python3.7/dist-packages (from tensorflow==1.13.2) (1.1.2)\n",
            "Requirement already satisfied: absl-py>=0.1.6 in /usr/local/lib/python3.7/dist-packages (from tensorflow==1.13.2) (0.12.0)\n",
            "Collecting tensorboard<1.14.0,>=1.13.0\n",
            "\u001b[?25l  Downloading https://files.pythonhosted.org/packages/0f/39/bdd75b08a6fba41f098b6cb091b9e8c7a80e1b4d679a581a0ccd17b10373/tensorboard-1.13.1-py3-none-any.whl (3.2MB)\n",
            "\u001b[K     |████████████████████████████████| 3.2MB 31.8MB/s \n",
            "\u001b[?25hRequirement already satisfied: astor>=0.6.0 in /usr/local/lib/python3.7/dist-packages (from tensorflow==1.13.2) (0.8.1)\n",
            "Collecting keras-applications>=1.0.6\n",
            "\u001b[?25l  Downloading https://files.pythonhosted.org/packages/71/e3/19762fdfc62877ae9102edf6342d71b28fbfd9dea3d2f96a882ce099b03f/Keras_Applications-1.0.8-py3-none-any.whl (50kB)\n",
            "\u001b[K     |████████████████████████████████| 51kB 6.8MB/s \n",
            "\u001b[?25hRequirement already satisfied: protobuf>=3.6.1 in /usr/local/lib/python3.7/dist-packages (from tensorflow==1.13.2) (3.12.4)\n",
            "Collecting tensorflow-estimator<1.14.0rc0,>=1.13.0\n",
            "\u001b[?25l  Downloading https://files.pythonhosted.org/packages/bb/48/13f49fc3fa0fdf916aa1419013bb8f2ad09674c275b4046d5ee669a46873/tensorflow_estimator-1.13.0-py2.py3-none-any.whl (367kB)\n",
            "\u001b[K     |████████████████████████████████| 368kB 47.2MB/s \n",
            "\u001b[?25hRequirement already satisfied: grpcio>=1.8.6 in /usr/local/lib/python3.7/dist-packages (from tensorflow==1.13.2) (1.32.0)\n",
            "Requirement already satisfied: six>=1.10.0 in /usr/local/lib/python3.7/dist-packages (from tensorflow==1.13.2) (1.15.0)\n",
            "Requirement already satisfied: termcolor>=1.1.0 in /usr/local/lib/python3.7/dist-packages (from tensorflow==1.13.2) (1.1.0)\n",
            "Requirement already satisfied: numpy<2.0,>=1.16.0 in /usr/local/lib/python3.7/dist-packages (from tensorflow==1.13.2) (1.19.5)\n",
            "Requirement already satisfied: werkzeug>=0.11.15 in /usr/local/lib/python3.7/dist-packages (from tensorboard<1.14.0,>=1.13.0->tensorflow==1.13.2) (2.0.0)\n",
            "Requirement already satisfied: markdown>=2.6.8 in /usr/local/lib/python3.7/dist-packages (from tensorboard<1.14.0,>=1.13.0->tensorflow==1.13.2) (3.3.4)\n",
            "Requirement already satisfied: h5py in /usr/local/lib/python3.7/dist-packages (from keras-applications>=1.0.6->tensorflow==1.13.2) (2.10.0)\n",
            "Requirement already satisfied: setuptools in /usr/local/lib/python3.7/dist-packages (from protobuf>=3.6.1->tensorflow==1.13.2) (56.1.0)\n",
            "Collecting mock>=2.0.0\n",
            "  Downloading https://files.pythonhosted.org/packages/5c/03/b7e605db4a57c0f6fba744b11ef3ddf4ddebcada35022927a2b5fc623fdf/mock-4.0.3-py3-none-any.whl\n",
            "Requirement already satisfied: importlib-metadata; python_version < \"3.8\" in /usr/local/lib/python3.7/dist-packages (from markdown>=2.6.8->tensorboard<1.14.0,>=1.13.0->tensorflow==1.13.2) (4.0.1)\n",
            "Requirement already satisfied: zipp>=0.5 in /usr/local/lib/python3.7/dist-packages (from importlib-metadata; python_version < \"3.8\"->markdown>=2.6.8->tensorboard<1.14.0,>=1.13.0->tensorflow==1.13.2) (3.4.1)\n",
            "Requirement already satisfied: typing-extensions>=3.6.4; python_version < \"3.8\" in /usr/local/lib/python3.7/dist-packages (from importlib-metadata; python_version < \"3.8\"->markdown>=2.6.8->tensorboard<1.14.0,>=1.13.0->tensorflow==1.13.2) (3.7.4.3)\n",
            "Installing collected packages: tensorboard, keras-applications, mock, tensorflow-estimator, tensorflow\n",
            "  Found existing installation: tensorboard 2.4.1\n",
            "    Uninstalling tensorboard-2.4.1:\n",
            "      Successfully uninstalled tensorboard-2.4.1\n",
            "  Found existing installation: tensorflow-estimator 2.4.0\n",
            "    Uninstalling tensorflow-estimator-2.4.0:\n",
            "      Successfully uninstalled tensorflow-estimator-2.4.0\n",
            "  Found existing installation: tensorflow 2.4.1\n",
            "    Uninstalling tensorflow-2.4.1:\n",
            "      Successfully uninstalled tensorflow-2.4.1\n",
            "Successfully installed keras-applications-1.0.8 mock-4.0.3 tensorboard-1.13.1 tensorflow-1.13.2 tensorflow-estimator-1.13.0\n",
            "  Building wheel for gpt-2-simple (setup.py) ... \u001b[?25l\u001b[?25hdone\n"
          ],
          "name": "stdout"
        }
      ]
    },
    {
      "cell_type": "code",
      "metadata": {
        "colab": {
          "base_uri": "https://localhost:8080/"
        },
        "id": "CdMtJvWvM_eY",
        "outputId": "580dac46-6e52-4b7e-f567-9f8d288b9301"
      },
      "source": [
        "import transformers\n",
        "import gpt_2_simple as gpt2\n",
        "import tensorflow"
      ],
      "execution_count": 3,
      "outputs": [
        {
          "output_type": "stream",
          "text": [
            "/usr/local/lib/python3.7/dist-packages/tensorflow/python/framework/dtypes.py:526: FutureWarning: Passing (type, 1) or '1type' as a synonym of type is deprecated; in a future version of numpy, it will be understood as (type, (1,)) / '(1,)type'.\n",
            "  _np_qint8 = np.dtype([(\"qint8\", np.int8, 1)])\n",
            "/usr/local/lib/python3.7/dist-packages/tensorflow/python/framework/dtypes.py:527: FutureWarning: Passing (type, 1) or '1type' as a synonym of type is deprecated; in a future version of numpy, it will be understood as (type, (1,)) / '(1,)type'.\n",
            "  _np_quint8 = np.dtype([(\"quint8\", np.uint8, 1)])\n",
            "/usr/local/lib/python3.7/dist-packages/tensorflow/python/framework/dtypes.py:528: FutureWarning: Passing (type, 1) or '1type' as a synonym of type is deprecated; in a future version of numpy, it will be understood as (type, (1,)) / '(1,)type'.\n",
            "  _np_qint16 = np.dtype([(\"qint16\", np.int16, 1)])\n",
            "/usr/local/lib/python3.7/dist-packages/tensorflow/python/framework/dtypes.py:529: FutureWarning: Passing (type, 1) or '1type' as a synonym of type is deprecated; in a future version of numpy, it will be understood as (type, (1,)) / '(1,)type'.\n",
            "  _np_quint16 = np.dtype([(\"quint16\", np.uint16, 1)])\n",
            "/usr/local/lib/python3.7/dist-packages/tensorflow/python/framework/dtypes.py:530: FutureWarning: Passing (type, 1) or '1type' as a synonym of type is deprecated; in a future version of numpy, it will be understood as (type, (1,)) / '(1,)type'.\n",
            "  _np_qint32 = np.dtype([(\"qint32\", np.int32, 1)])\n",
            "/usr/local/lib/python3.7/dist-packages/tensorflow/python/framework/dtypes.py:535: FutureWarning: Passing (type, 1) or '1type' as a synonym of type is deprecated; in a future version of numpy, it will be understood as (type, (1,)) / '(1,)type'.\n",
            "  np_resource = np.dtype([(\"resource\", np.ubyte, 1)])\n"
          ],
          "name": "stderr"
        }
      ]
    },
    {
      "cell_type": "code",
      "metadata": {
        "id": "dV-uqtjQNEPe"
      },
      "source": [
        "from google.colab import files"
      ],
      "execution_count": 5,
      "outputs": []
    },
    {
      "cell_type": "code",
      "metadata": {
        "colab": {
          "resources": {
            "http://localhost:8080/nbextensions/google.colab/files.js": {
              "data": "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",
              "ok": true,
              "headers": [
                [
                  "content-type",
                  "application/javascript"
                ]
              ],
              "status": 200,
              "status_text": ""
            }
          },
          "base_uri": "https://localhost:8080/",
          "height": 72
        },
        "id": "BKAVHVnfNFF-",
        "outputId": "29de1b0f-9f24-4c51-cf6e-882718a7b180"
      },
      "source": [
        "data = files.upload()"
      ],
      "execution_count": 6,
      "outputs": [
        {
          "output_type": "display_data",
          "data": {
            "text/html": [
              "\n",
              "     <input type=\"file\" id=\"files-113fd3f1-df6d-4db0-a433-44808d647194\" name=\"files[]\" multiple disabled\n",
              "        style=\"border:none\" />\n",
              "     <output id=\"result-113fd3f1-df6d-4db0-a433-44808d647194\">\n",
              "      Upload widget is only available when the cell has been executed in the\n",
              "      current browser session. Please rerun this cell to enable.\n",
              "      </output>\n",
              "      <script src=\"/nbextensions/google.colab/files.js\"></script> "
            ],
            "text/plain": [
              "<IPython.core.display.HTML object>"
            ]
          },
          "metadata": {
            "tags": []
          }
        },
        {
          "output_type": "stream",
          "text": [
            "Saving ginsberg.txt to ginsberg.txt\n"
          ],
          "name": "stdout"
        }
      ]
    },
    {
      "cell_type": "code",
      "metadata": {
        "id": "2LpKvQ3SNGXV"
      },
      "source": [
        "data_file = \"ginsberg.txt\""
      ],
      "execution_count": 7,
      "outputs": []
    },
    {
      "cell_type": "code",
      "metadata": {
        "colab": {
          "base_uri": "https://localhost:8080/"
        },
        "id": "2INZrup4NJPf",
        "outputId": "fb963bc8-7fd7-4de7-b4d1-f178470e6e64"
      },
      "source": [
        "gpt2.download_gpt2(model_name=\"124M\")"
      ],
      "execution_count": 8,
      "outputs": [
        {
          "output_type": "stream",
          "text": [
            "Fetching checkpoint: 1.05Mit [00:00, 251Mit/s]                                                      \n",
            "Fetching encoder.json: 1.05Mit [00:00, 4.00Mit/s]\n",
            "Fetching hparams.json: 1.05Mit [00:00, 329Mit/s]                                                    \n",
            "Fetching model.ckpt.data-00000-of-00001: 498Mit [01:31, 5.46Mit/s]\n",
            "Fetching model.ckpt.index: 1.05Mit [00:00, 400Mit/s]                                                \n",
            "Fetching model.ckpt.meta: 1.05Mit [00:00, 5.62Mit/s]\n",
            "Fetching vocab.bpe: 1.05Mit [00:00, 5.16Mit/s]\n"
          ],
          "name": "stderr"
        }
      ]
    },
    {
      "cell_type": "code",
      "metadata": {
        "colab": {
          "base_uri": "https://localhost:8080/"
        },
        "id": "VXpTHjHVNKyu",
        "outputId": "100d37f3-d87f-46eb-e9f1-083786585cab"
      },
      "source": [
        "gpt2.mount_gdrive()"
      ],
      "execution_count": 9,
      "outputs": [
        {
          "output_type": "stream",
          "text": [
            "Mounted at /content/drive\n"
          ],
          "name": "stdout"
        }
      ]
    },
    {
      "cell_type": "code",
      "metadata": {
        "colab": {
          "base_uri": "https://localhost:8080/"
        },
        "id": "2E0v2tRTNMDQ",
        "outputId": "bc0eff81-b159-49a8-dd85-968ee599d839"
      },
      "source": [
        "tensorflow.reset_default_graph()\n",
        "sess = gpt2.start_tf_sess()\n",
        "gpt2.finetune(sess,\n",
        "          steps=50,\n",
        "          dataset=data_file,\n",
        "          model_name='124M', \n",
        "          print_every=5,\n",
        "          run_name= 'ginsberg',\n",
        "          restore_from='latest',\n",
        "          sample_every=10,\n",
        "          save_every=10\n",
        "          )"
      ],
      "execution_count": 10,
      "outputs": [
        {
          "output_type": "stream",
          "text": [
            "WARNING:tensorflow:From /usr/local/lib/python3.7/dist-packages/tensorflow/python/framework/op_def_library.py:263: colocate_with (from tensorflow.python.framework.ops) is deprecated and will be removed in a future version.\n",
            "Instructions for updating:\n",
            "Colocations handled automatically by placer.\n",
            "WARNING:tensorflow:From /usr/local/lib/python3.7/dist-packages/tensorflow/python/ops/math_ops.py:3066: to_int32 (from tensorflow.python.ops.math_ops) is deprecated and will be removed in a future version.\n",
            "Instructions for updating:\n",
            "Use tf.cast instead.\n",
            "WARNING:tensorflow:From /usr/local/lib/python3.7/dist-packages/tensorflow/python/ops/math_grad.py:102: div (from tensorflow.python.ops.math_ops) is deprecated and will be removed in a future version.\n",
            "Instructions for updating:\n",
            "Deprecated in favor of operator or tf.math.divide.\n",
            "Loading checkpoint models/124M/model.ckpt\n",
            "WARNING:tensorflow:From /usr/local/lib/python3.7/dist-packages/tensorflow/python/training/saver.py:1266: checkpoint_exists (from tensorflow.python.training.checkpoint_management) is deprecated and will be removed in a future version.\n",
            "Instructions for updating:\n",
            "Use standard file APIs to check for files with this prefix.\n",
            "INFO:tensorflow:Restoring parameters from models/124M/model.ckpt\n"
          ],
          "name": "stdout"
        },
        {
          "output_type": "stream",
          "text": [
            "\r  0%|          | 0/1 [00:00<?, ?it/s]"
          ],
          "name": "stderr"
        },
        {
          "output_type": "stream",
          "text": [
            "Loading dataset...\n"
          ],
          "name": "stdout"
        },
        {
          "output_type": "stream",
          "text": [
            "100%|██████████| 1/1 [00:00<00:00,  2.10it/s]\n"
          ],
          "name": "stderr"
        },
        {
          "output_type": "stream",
          "text": [
            "dataset has 44126 tokens\n",
            "Training...\n",
            "[5 | 938.79] loss=4.11 avg=4.11\n",
            "[10 | 1915.55] loss=3.86 avg=3.99\n",
            "Saving checkpoint/ginsberg/model-10\n",
            "======== SAMPLE 1 ========\n",
            " outside the room to talk with him, and I have asked him to go to the hospital with me.\n",
            "\n",
            "What's wrong with your condition? What does you have to do to get out of this world?\n",
            "\n",
            "\n",
            "My name is David.\n",
            "I was born May 9, 1957 in New Jersey. I graduated high school in 1962.\n",
            "My brother George attended college at the University of Pennsylvania,\n",
            "and I was sent to a hospital in St. Louis.\n",
            "In 1978, my second son George, then a fifth-grader,\n",
            "went to college with us and got a degree. I enrolled in middle school. I went to work at the same time as\n",
            "my brother, who works with me.\n",
            "My brother was born when I was 14.\n",
            "I have been divorced since. I met a man about six months ago and\n",
            "married him once, but divorced the next day.\n",
            "No one asked me to come, because she had a son in her hospital room and I didn't want to\n",
            "have to pay anything to my children and I was too embarrassed to bother with her.\n",
            "My brother died three years ago. After we got him back I went to St. Louis.\n",
            "I went to college with my brother, who was in hospital.\n",
            "I was still learning. I got a job doing construction on the site and got to know them\n",
            "about plumbing. I went to the hospital, got in touch with George, but\n",
            "did not understand what was happening. George was in the hospital, so I tried to say, \"Is what I got you the wrong way?'\"\n",
            "He seemed fine with it. I went to the hospital, gave him my number and left.\n",
            "I am going to go the hospital, because George, it's only a week before my son takes a few weeks.\n",
            "I am going to do my best to help George and get him out. He will be OK soon.\n",
            "My next year will be an important one. I will be going to work on the land in an RV, in the woods, in the back yard\n",
            "of Lakewood Hills, on Lake Avenue north of New York University.\n",
            "I want to do this land-grant project I made in 1978, in New Jersey as a private matter,\n",
            "with only a few months notice, with a little help in a few years, and in the meantime, I\n",
            "might care for one kid or two, or more, but I want to keep working at the water well, get a few children for my own,\n",
            "and be good for her when I get home and do it again.\n",
            "I want to make money from making this land grant a job, which I did until I came back to New York from that trip, and am getting out of debt in my own way, and I'm a bad boy like some of my brothers in school.\n",
            "But I just want to save my boys money, and I want to help them take care of their own health. I want them to think they have a future ahead. I want them to work for themselves, and for me, to be good for the rest of their life.\n",
            "I promise to take care of them, and make money for them all, even to help get me down. I'm going to get the best care of everybody who goes to the hospital on a monthly or yearly basis,\n",
            "especially those who care on a daily basis. I am also going to be good for them, and my daughters can be good, which I will take care of.\n",
            "I have the best future for them and a great future for me, too.\n",
            "I have a promise, I have the best future for them for the rest of my life, with that promise, I have a promise, I have the best future for them,\n",
            "and then I will give them what they need, and I will help them take care of the boys they have,\n",
            "and make money for them. I'm going to come back and make this land grant a job,\n",
            "which I said in 1978, with no notice for a year, in 1978, so I won't have to return to New York. I have a promise, I am going to give them what they need,\n",
            "And pay them back as if I did, or give them money,\n",
            "or work in an office, and I know at the time it was not possible for them to care for themselves, so I am going to give them good care, take them to the hospital,\n",
            "and come back to New York once in every three years. I am going to make money from this land-grant of mine for the last five years,\n",
            "and I am not doing it for money or money's sake. I am doing it because I believe what they need is real care and\n",
            "truly needs it, and I think that I have a good chance of getting a lot of them through the roof\n",
            "of this land grant, with me, so I can give them what they need, and make money for them\n",
            "\n",
            "[15 | 3109.41] loss=3.23 avg=3.73\n",
            "[20 | 4073.42] loss=3.72 avg=3.73\n",
            "Saving checkpoint/ginsberg/model-20\n",
            "WARNING:tensorflow:From /usr/local/lib/python3.7/dist-packages/tensorflow/python/training/saver.py:966: remove_checkpoint (from tensorflow.python.training.checkpoint_management) is deprecated and will be removed in a future version.\n",
            "Instructions for updating:\n",
            "Use standard file APIs to delete files with this prefix.\n",
            "======== SAMPLE 1 ========\n",
            "ore-dance-in-towns\n",
            "My life at the turn of twenty five.\n",
            "I love my mother\n",
            "My family history\n",
            "Haven't given a thought to getting a job!\n",
            "My best friend\n",
            "My best friend and I\n",
            "My best friend, a lot of us\n",
            "Friends, my best friend and I\n",
            "Friends, my best friend,\n",
            "My best friend, my best friend and I\n",
            "Friends, my best friend, I\n",
            "Friends, my best friend and I\n",
            "My best friends & me\n",
            "My best friends & me\n",
            "My best friends & me\n",
            "My best friends & me\n",
            "My best friends & me\n",
            "My best friends & me and I & I &\n",
            "My best friends & me & me &\n",
            "My best friends & me and\n",
            "My best friends & me & me &\n",
            "My best friends & me\n",
            "My best friends & me\n",
            "My best friends & me\n",
            "My best friends & me,\n",
            "My best friends & me & me &\n",
            "My best friends & me & me &\n",
            "My best friends & me and me &\n",
            "My best friends & me & me\n",
            "My best friends & me & me &\n",
            "My best friends & me,\n",
            "My best friends & me & me & me\n",
            "My best friends & me,\n",
            "My best friends & me & me and\n",
            "My best friends & me & me & and\n",
            "my best friends and me & me,\n",
            "My best friends & me & me and me\n",
            "My best friends & me & me & me &\n",
            "Your mother\n",
            "Your best friend\n",
            "Your best friend's mother\n",
            "Your best friend's mother's best friend\n",
            "Your best friend's father\n",
            "Your best friend's father's best friend's father's best friend's mother\n",
            "Your best friend's best friend's mother's best friend's mother's\n",
            "Your best friend's best friend's best friend's\n",
            "Your best friend's friend's friend's best friend's\n",
            "your best friend's friend's best friend's own best friend's friend's\n",
            "you's best friend's best friend's friend's best friend's\n",
            "your friend's friend's friend's friend's,\n",
            "your best friend's friend's friend's friend's\n",
            "your best friend's friend's friend's friend's friend's\n",
            "your friend's friend's friend's\n",
            "yourbest friend's friend's friend's\n",
            "your friend's friend's\n",
            "your friend's\n",
            " Your best friend\n",
            "Your best friend\n",
            "Your friend\n",
            "Your best friend\n",
            "Your friend\n",
            "Your friend\n",
            "It's always a mystery how this happened\n",
            "\n",
            "\n",
            "It must have happened to my own head to fall behind the\n",
            "\n",
            "the iron curtain of\n",
            "my own thoughts and\n",
            "the voice\n",
            "of the\n",
            "world where\n",
            "in life\n",
            "all these thoughts turn\n",
            "to an iron wheel.\n",
            "\n",
            "The only\n",
            "lady\n",
            "who stayed there\n",
            "before\n",
            "was there anything she\n",
            "could do\n",
            "in her mind to stop\n",
            "any man who\n",
            "asked her for love\n",
            "who would stop her with no\n",
            "answer\n",
            "before she broke the\n",
            "nose, went to a room\n",
            "with her, kissed her\n",
            "and said—\n",
            "\"I think you'll find out.\"\n",
            "\n",
            "She went back into hiding,\n",
            "and\n",
            "with the help of my dear\n",
            "sister,\n",
            "she lost herself in a\n",
            "room closet with an old book,\n",
            "it was a beautiful book on the\n",
            "office wall.\n",
            "\"That's it, girl?\"\n",
            "She looked at the book,\n",
            "stopped laughing, walked back around\n",
            "and sat in the doorway,\n",
            "looking at her sister,\n",
            "as if to say,\n",
            "\n",
            "\n",
            "Dear Mother,\n",
            "What's so funny? She\n",
            "went back to her room to tell her\n",
            "in what was the most beautiful room\n",
            "that I had ever seen\n",
            "that I didn't like,\n",
            "and she cried\n",
            "I thought she should come come but\n",
            "she refused\n",
            "The door was locked so she walked\n",
            "to the window in front\n",
            "to get her keys and\n",
            "and went back into the room,\n",
            "\n",
            "her tears were coming out of her eyes,\n",
            "\n",
            "and there she was\n",
            "with my tears in a mouth-lifted\n",
            "whore\n",
            "with one hand\n",
            "that was on another\n",
            "that held my mouth\n",
            "my hand that pulled out my\n",
            "shorts\n",
            "from inside my mouth and\n",
            "\n",
            "screamed loudly.\n",
            "A minute later--she came in\n",
            "wept at what was to be her apartment\n",
            "with my eyes closed\n",
            "that night, and I remembered\n",
            "that I wanted to talk to her\n",
            "and she came back from the hospital\n",
            "then he\n",
            "went to pick her up at the hospital\n",
            "and he made a mental note\n",
            "that if I were in her apartment she\n",
            "must be alive.\n",
            "\n",
            "Wept for forty-three minutes to the last\n",
            "second\n",
            "as he said he needed to go back to his\n",
            "office and came home\n",
            "stating his heart was broken.\n",
            "\n",
            "She said, \"I'm glad we could\n",
            "live together!\"\n",
            "\n",
            "She went inside and found me sitting in\n",
            "her\n",
            "\n",
            "[25 | 5148.62] loss=3.45 avg=3.67\n",
            "[30 | 6153.02] loss=3.16 avg=3.58\n",
            "Saving checkpoint/ginsberg/model-30\n",
            "======== SAMPLE 1 ========\n",
            "\n",
            "\n",
            "It is not that I thought any woman was anything but a cunt. I thought that I got off the wagon the way you had on you, and when I said farewell to you, you were right—the universe—forgive your beauty, Mr. President—the universe does not come back.\n",
            "\n",
            "We did not come to take your bread. We did not take your shoes. We stopped to cook, you can see how hot I am. I love you, Mrs. President. You are so sweet, you think I am so perfect. I love you, Mrs. President. I love you, Mr. President. I love you now. I love you, Mr. President. I loved you till I died. I had a dream of your perfect body and mind and vision. I could see in your eye—your beautiful soul on the table and in your mouth—you have not eaten that food all night—I am so glad you have taken your rest.\n",
            "I was always on your side to save you. I felt you in your heart when I heard your voice in the street, as you broke her arm for supper or you came home and I cried, you were so sweet—I wanted my own hand again. You were so beautiful in front of you to me, Mrs. President—I am so sorry—I did the same with President Carter, I do not remember your voice.\n",
            "\n",
            "My dear President of the United States, I loved you so much—never, mind you were so nervous—and I did not want you. I did not have sex with you in public, but I did love every second of it—we were so old—I was the only daughter of the Civil War—I always wished I had been a nurse, even in my late teens—It must have been the same with the President—he was so much better in bed with these new ladies—I could walk in the dark, I love you. I am always with you, Mr. President.\n",
            "I have not felt a hand—I have felt your touch—my fingers on the lips against your breasts—the fingers in your underwear—\n",
            "I lay there, imagining Mr. President gazing at my breast—my heart was beat—I cried in pain, in your presence—I was so sad.\n",
            "\n",
            "I was a real boy in high school, I am really a President, I was in the Army—I had to go to college—I had to take your orders, or I lost my mind—\n",
            "My lips were trembling. I knew exactly what you thought of me—I had gone into the Army I don't know, I thought—I was ashamed of myself—you were so beautiful on the big stage you should have gone. I did go—\n",
            "I was nervous—I took your hand—to the big white desk—\n",
            "—I told you I loved your beauty—and I remembered—you were so beautiful watching me—\n",
            "—I stared at your skin. I said I thought of you in your eyes—he stared—and I kissed you back of the head—\n",
            "—Your lips were beautiful, big and delicate—your lips touched mine—you gazed in my eyes.\n",
            "—I saw you smile—I heard your smile—\n",
            "—I saw your face, the smile. I thought of you at last—kiss your cheek—I kissed your chin, I thought of you on my lips—\n",
            "—Yes—I kissed your cheek once—that was beautiful, I thought.\n",
            "—My own face in your mouth—I kissed you back—lick on your cheek, with your fingers—\n",
            "—What you love—I loved it with the same affection in you—the same love in me.\n",
            "—How long have you had these sensations in you? Have you lost them? What did I love for your body?\n",
            "\n",
            "—You're so big, this is my big cock now—I got your breasts in my pants—and you wanted them, I did.\n",
            "—It'll take you a moment—I want to tell you—I love your huge big cock, Mr. President—so much—so much in my head—I'm thinking the whole time of what to do to return—\n",
            "—What do you want? I'll never forget you. I promise you that I'll get married, a couple of girls, and get naked.\n",
            "\n",
            "—Your cock, I'll be so happy forever—and you'll be home satisfied—I'll make you a present, I'll give you a nice long night's sleep—\n",
            "—I won't—I'll give you a second to make yourself at home.\n",
            "—Take a seat.\n",
            "—My dear President, I've done it again.\n",
            "—You want to wait till evening? I'll walk round—I'll wait by the table—\n",
            "—I'll come in the evening—\n",
            "—No—I don't want to see you—I want to get away from you—\n",
            "\n",
            "[35 | 7335.50] loss=3.15 avg=3.52\n",
            "[40 | 8286.03] loss=2.71 avg=3.42\n",
            "Saving checkpoint/ginsberg/model-40\n",
            "======== SAMPLE 1 ========\n",
            " You be with us, for we are brothers and sisters, sisters and brothers, sisters and brothers, brothers and sons of the living.\n",
            "\n",
            "\n",
            "And the voice of that voice rose up and set down on the earth as a lamb, and the voice of that voice went down on the face of the world and came again,\n",
            "and I came out of the wilderness weeping,\n",
            "and the angel of my hand said, Help me, I am hungry, and I walk with a debt of debt for the land of America,\n",
            "and I came across that mountain high and took in the image of the Father, and he said, Lord I pray on your land, as I am lifted today, for I am a burden to burden for your nations,\n",
            "and I walked on the grass of the grave and saw what had come up\n",
            "and my Lord was come, and that is the last word.\n",
            "\n",
            "\n",
            "\n",
            "\n",
            "And in the afternoon I went to the apartment building and read the Psalm. My old friend came home, and I said, Lord, I read this Psalm in my living room, in the closet, in the bathroom, and he said, Lord, I read this Psalm in my living room, in my living room,\n",
            "and he said to me, Lord, this Psalm teaches you such miracles as these\n",
            "you, you you you you you you you you you you you yourself you you you you you you you you you you you you\n",
            "you you you you you you you you you you you you you you you you you you you you you yourself you you you you you you you you\n",
            "you you you you you you you you you you you you you you you you you you you you you You\n",
            "you you you you you you you you you you you you you you you you\n",
            "you you you you you you you you you you you you you you you you and you you you you you you you you you you\n",
            "you you you you you you you you you you you\n",
            "you you you you you you you you you you you you yourself you you you you you you You\n",
            "you you you you you you you you you you you\n",
            "you you you you yourself you your you your you you yourself you you yourself you you you we\n",
            "you are you we you we our we you we please ourselves that we ourselves may enter in\n",
            "into these particulars as much as we may, therefore that our thoughts may become true and that we may have\n",
            "the power to hear these words and have the power to feel this\n",
            "the power to recall the memories of the living God of these words, of these words, of these memory\n",
            "as I read these words that I recall them when I come out of this mortal body and have given unto you my own\n",
            "mind, and I am lifted up again in the form of that blessed angel that dwells where I was\n",
            "before.\n",
            "\n",
            "\n",
            "O son of old!\n",
            "\n",
            "The Lord of the cross!\n",
            "The Son of Man!\n",
            "The Blessed Bride!\n",
            "The Rose that burns in the fireplace!\n",
            "The Beauty who dresses in the flesh!\n",
            "The Father and the Holy Spirit in the sky!\n",
            "\n",
            "All the blessed in the world—all the righteous—all the great—\n",
            "No more have I, that ye might know the Kingdom of God!\n",
            "No more, that ye might know his power!\n",
            "No more, that ye may build your home in the name of the Father!\n",
            "No more, that ye may live forever in this mountain!\n",
            "No more, that ye may dwell in his house!\n",
            "No less, that ye may bear witness to his mercy!\n",
            "No more, that ye may dwell in his secret mysteries!\n",
            "No more!—the only Son of God!\n",
            "The only God who is pure! The only God who loves his fellow man no more!\n",
            "No more!—the only Son of God!\n",
            "Eternity in creation! Eternity in the beginning! Eternity in eternity! Eternity!\n",
            "The end! The beginning! The perfection! Eternity!\n",
            "My kingdom! Eternity! Eternity.\n",
            "It will be given me at once, because I am the key for eternity, that it may not be lost!\n",
            "It never will be given to this generation or this generation in the last;\n",
            "My kingdom is at last given to these two.\n",
            "It was given for each of them in the last.\n",
            "For I am with you in these last days, O King of the world, and I am with you all ages, and I am your God.\n",
            "For I am the Lord your God, and I am with you in these last days: for I am with you, O Lord, and I am with all humankind, which are holy in heart, and in arms, and in the breasts of my own creation.\n",
            "And the Holy One of Israel taught me these things, and the Prophets of Solomon preached these things, and the Prophets of Solomon saw these things, and the Holy One and Solomon were witnesses before all men, even all\n",
            "\n",
            "[45 | 9342.79] loss=2.82 avg=3.35\n",
            "[50 | 10255.95] loss=2.58 avg=3.27\n",
            "Saving checkpoint/ginsberg/model-50\n"
          ],
          "name": "stdout"
        }
      ]
    },
    {
      "cell_type": "code",
      "metadata": {
        "id": "P6Ptz-25NPSQ"
      },
      "source": [
        "gpt2.copy_checkpoint_to_gdrive(run_name='ginsberg')"
      ],
      "execution_count": 11,
      "outputs": []
    }
  ]
}